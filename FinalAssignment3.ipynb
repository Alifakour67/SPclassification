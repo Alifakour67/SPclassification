{
 "cells": [
  {
   "cell_type": "markdown",
   "id": "ed592307-32e5-4391-b502-8f4d5e843490",
   "metadata": {},
   "source": [
    "xercise #3\n",
    "Hanie & Ali"
   ]
  },
  {
   "cell_type": "markdown",
   "id": "e2fd732c-15e9-4fae-a76c-90e95664ee62",
   "metadata": {},
   "source": [
    "[EuroSAT](https://zenodo.org/records/7711810#.ZAm3k-zMKEA) is a land use and land cover classification dataset. The dataset is based on Sentinel-2 satellite imagery covering 13 spectral bands and consists of 10 Land Use and Land Cover (LULC) classes with a total of 27,000 labeled and geo-referenced images. \n",
    "\n",
    "Using the following code, you can create a DataFrame that includes columns detailing the center locations of the images and their corresponding Land Use and Land Cover (LULC) classes.\n",
    "\n",
    "Your task: Perform **supervised Machine Learning (ML)** on this dataset. You should use **Dask** in your implementation. You may follow these key steps:\n",
    "- Create relevant features and analyse them using some visualizations and statistical tools. You can start with features representing the mean and range of spectral bands in these images. You are free to explore more relevant features.\n",
    "- Split the dataset into training, validation, and test sets.\n",
    "- Choose an appropriate ML algorithm.\n",
    "- Train and assess the model's performance.\n",
    "- Adjust the model's hyperparameters to optimize its performance."
   ]
  },
  {
   "cell_type": "code",
   "execution_count": 1,
   "id": "d68a3821-c18c-4cbd-b5a7-11e948817e53",
   "metadata": {},
   "outputs": [],
   "source": [
    "import rasterio\n",
    "import rasterio.features\n",
    "import rasterio.warp\n",
    "import geojson"
   ]
  },
  {
   "cell_type": "code",
   "execution_count": 2,
   "id": "cc83a247-7c78-4869-8e5c-5347b1e844c1",
   "metadata": {},
   "outputs": [],
   "source": [
    "import os\n",
    "from os.path import isfile, join\n",
    "import pandas as pd"
   ]
  },
  {
   "cell_type": "code",
   "execution_count": 3,
   "id": "8077d511-76fa-40e6-8bbd-41af4642a2ba",
   "metadata": {},
   "outputs": [],
   "source": [
    "directory_path = '/data/shared/Big-Geodata-Processing-2023-1A/Exercise3/EuroSAT_MS/'"
   ]
  },
  {
   "cell_type": "code",
   "execution_count": 4,
   "id": "9177e922-2e76-4f62-9ac9-b7852ee7c0c4",
   "metadata": {},
   "outputs": [],
   "source": [
    "# function to get the center coordinate of the image\n",
    "def get_cent(filename):\n",
    "    with rasterio.open(filename) as dataset:\n",
    "        # Read the dataset's valid data mask as a ndarray.\n",
    "        mask = dataset.dataset_mask()\n",
    "\n",
    "        # Extract feature shapes and values from the array.\n",
    "        for geom, val in rasterio.features.shapes(\n",
    "                mask, transform=dataset.transform):\n",
    "\n",
    "            # Transform shapes from the dataset's own coordinate\n",
    "            # reference system to CRS84 (EPSG:4326).\n",
    "            geom = rasterio.warp.transform_geom(\n",
    "                dataset.crs, 'EPSG:4326', geom, precision=6)\n",
    "            ls = list(geojson.utils.coords(geom))\n",
    "            x = []\n",
    "            y = []\n",
    "            for row in ls:\n",
    "                x.append(row[0])\n",
    "                y.append(row[1])\n",
    "            cent = [min(y)+(max(y)-min(y))/2,min(x)+(max(x)-min(x))/2]\n",
    "    return cent"
   ]
  },
  {
   "cell_type": "code",
   "execution_count": 5,
   "id": "93cf1541-ad74-4d6a-b7ec-100e7dd88ff7",
   "metadata": {},
   "outputs": [],
   "source": [
    "subfolders = [ f.path for f in os.scandir(directory_path) if f.is_dir() ]"
   ]
  },
  {
   "cell_type": "code",
   "execution_count": 6,
   "id": "1f85d1d3-b446-42c5-92ef-7c381c9cac35",
   "metadata": {},
   "outputs": [
    {
     "name": "stdout",
     "output_type": "stream",
     "text": [
      "Residential 3000\n",
      "Pasture 2000\n",
      "SeaLake 3000\n",
      "HerbaceousVegetation 3000\n",
      "Forest 3000\n",
      "Industrial 2500\n",
      "River 2500\n",
      "PermanentCrop 2500\n",
      "AnnualCrop 3000\n",
      "Highway 2500\n"
     ]
    }
   ],
   "source": [
    "df = pd.DataFrame(columns=[\"Lat\", \"Lon\", \"Class\"])\n",
    "for i in range(len(subfolders)):\n",
    "    image_path = subfolders[i]\n",
    "    class_name = os.path.basename(image_path)\n",
    "    all_images = [f for f in os.listdir(image_path) if os.path.isfile(join(image_path, f))]\n",
    "    print(class_name,len(all_images))\n",
    "    for j in range(len(all_images)):\n",
    "        cent = get_cent(image_path+'/'+all_images[j])\n",
    "        new_row = pd.DataFrame({\"Lat\": cent[0], \"Lon\": cent[1], \"Class\": class_name}, index=[0])\n",
    "        df = pd.concat([df, new_row], ignore_index=True)\n",
    "        "
   ]
  },
  {
   "cell_type": "code",
   "execution_count": 7,
   "id": "9ef89cc2-7649-4b93-94bd-a4cf8496f540",
   "metadata": {},
   "outputs": [
    {
     "data": {
      "text/html": [
       "<div>\n",
       "<style scoped>\n",
       "    .dataframe tbody tr th:only-of-type {\n",
       "        vertical-align: middle;\n",
       "    }\n",
       "\n",
       "    .dataframe tbody tr th {\n",
       "        vertical-align: top;\n",
       "    }\n",
       "\n",
       "    .dataframe thead th {\n",
       "        text-align: right;\n",
       "    }\n",
       "</style>\n",
       "<table border=\"1\" class=\"dataframe\">\n",
       "  <thead>\n",
       "    <tr style=\"text-align: right;\">\n",
       "      <th></th>\n",
       "      <th>Lat</th>\n",
       "      <th>Lon</th>\n",
       "      <th>Class</th>\n",
       "    </tr>\n",
       "  </thead>\n",
       "  <tbody>\n",
       "    <tr>\n",
       "      <th>0</th>\n",
       "      <td>51.636699</td>\n",
       "      <td>0.409756</td>\n",
       "      <td>Residential</td>\n",
       "    </tr>\n",
       "    <tr>\n",
       "      <th>1</th>\n",
       "      <td>43.677658</td>\n",
       "      <td>7.113914</td>\n",
       "      <td>Residential</td>\n",
       "    </tr>\n",
       "    <tr>\n",
       "      <th>2</th>\n",
       "      <td>51.630671</td>\n",
       "      <td>-0.732539</td>\n",
       "      <td>Residential</td>\n",
       "    </tr>\n",
       "    <tr>\n",
       "      <th>3</th>\n",
       "      <td>52.333434</td>\n",
       "      <td>8.017260</td>\n",
       "      <td>Residential</td>\n",
       "    </tr>\n",
       "    <tr>\n",
       "      <th>4</th>\n",
       "      <td>43.730154</td>\n",
       "      <td>7.160103</td>\n",
       "      <td>Residential</td>\n",
       "    </tr>\n",
       "    <tr>\n",
       "      <th>...</th>\n",
       "      <td>...</td>\n",
       "      <td>...</td>\n",
       "      <td>...</td>\n",
       "    </tr>\n",
       "    <tr>\n",
       "      <th>26995</th>\n",
       "      <td>49.216428</td>\n",
       "      <td>16.408736</td>\n",
       "      <td>Highway</td>\n",
       "    </tr>\n",
       "    <tr>\n",
       "      <th>26996</th>\n",
       "      <td>49.082481</td>\n",
       "      <td>2.728486</td>\n",
       "      <td>Highway</td>\n",
       "    </tr>\n",
       "    <tr>\n",
       "      <th>26997</th>\n",
       "      <td>37.763857</td>\n",
       "      <td>-3.719099</td>\n",
       "      <td>Highway</td>\n",
       "    </tr>\n",
       "    <tr>\n",
       "      <th>26998</th>\n",
       "      <td>50.744405</td>\n",
       "      <td>4.544050</td>\n",
       "      <td>Highway</td>\n",
       "    </tr>\n",
       "    <tr>\n",
       "      <th>26999</th>\n",
       "      <td>49.773664</td>\n",
       "      <td>9.171549</td>\n",
       "      <td>Highway</td>\n",
       "    </tr>\n",
       "  </tbody>\n",
       "</table>\n",
       "<p>27000 rows × 3 columns</p>\n",
       "</div>"
      ],
      "text/plain": [
       "             Lat        Lon        Class\n",
       "0      51.636699   0.409756  Residential\n",
       "1      43.677658   7.113914  Residential\n",
       "2      51.630671  -0.732539  Residential\n",
       "3      52.333434   8.017260  Residential\n",
       "4      43.730154   7.160103  Residential\n",
       "...          ...        ...          ...\n",
       "26995  49.216428  16.408736      Highway\n",
       "26996  49.082481   2.728486      Highway\n",
       "26997  37.763857  -3.719099      Highway\n",
       "26998  50.744405   4.544050      Highway\n",
       "26999  49.773664   9.171549      Highway\n",
       "\n",
       "[27000 rows x 3 columns]"
      ]
     },
     "execution_count": 7,
     "metadata": {},
     "output_type": "execute_result"
    }
   ],
   "source": [
    "df"
   ]
  },
  {
   "cell_type": "markdown",
   "id": "2391ce25-a3ba-46ac-aa59-5b2801bd51ec",
   "metadata": {},
   "source": [
    "Visualization"
   ]
  },
  {
   "cell_type": "markdown",
   "id": "f2f022b8-7bb5-41b9-9113-fce563552fcc",
   "metadata": {},
   "source": [
    "As an example, one image is selected to be extracted related statistics"
   ]
  },
  {
   "cell_type": "code",
   "execution_count": 9,
   "id": "208597b7-50a1-4e3a-9429-dc5c825d569a",
   "metadata": {},
   "outputs": [],
   "source": [
    "filename_image = directory_path+\"AnnualCrop/AnnualCrop_1.tif\""
   ]
  },
  {
   "cell_type": "code",
   "execution_count": 10,
   "id": "6e7eb2e1-6c2b-4402-8868-3b4267c404d4",
   "metadata": {},
   "outputs": [],
   "source": [
    "with rasterio.open(filename_image, 'r') as ds:\n",
    "    img = ds.read()  # read all raster values\n"
   ]
  },
  {
   "cell_type": "code",
   "execution_count": 11,
   "id": "c6ce8f90-c797-4303-b604-cafe8714b6b7",
   "metadata": {},
   "outputs": [],
   "source": [
    "dataset = rasterio.open(directory_path+\"AnnualCrop/AnnualCrop_1.tif\")"
   ]
  },
  {
   "cell_type": "code",
   "execution_count": 13,
   "id": "5ad1c30e-79a1-4d02-9d53-4c3fb7c34d42",
   "metadata": {},
   "outputs": [
    {
     "data": {
      "text/plain": [
       "array([[1420, 1420, 1419, ..., 1291, 1298, 1306],\n",
       "       [1420, 1420, 1419, ..., 1291, 1298, 1306],\n",
       "       [1417, 1417, 1416, ..., 1291, 1299, 1306],\n",
       "       ...,\n",
       "       [1371, 1371, 1364, ..., 1307, 1306, 1306],\n",
       "       [1367, 1367, 1360, ..., 1310, 1309, 1308],\n",
       "       [1362, 1362, 1356, ..., 1312, 1311, 1311]], dtype=uint16)"
      ]
     },
     "execution_count": 13,
     "metadata": {},
     "output_type": "execute_result"
    }
   ],
   "source": [
    "dataset.indexes\n",
    "(1,)\n",
    "band1 = dataset.read(1)\n",
    "band1"
   ]
  },
  {
   "cell_type": "code",
   "execution_count": 14,
   "id": "367e27f0-4584-4f6c-bff5-adcf37eb7adf",
   "metadata": {},
   "outputs": [
    {
     "data": {
      "text/plain": [
       "array([[1291, 1291, 1280, ..., 1083, 1098, 1087],\n",
       "       [1291, 1291, 1280, ..., 1083, 1098, 1087],\n",
       "       [1269, 1269, 1283, ..., 1093, 1080, 1091],\n",
       "       ...,\n",
       "       [1271, 1271, 1250, ..., 1097, 1085, 1090],\n",
       "       [1230, 1230, 1227, ..., 1113, 1113, 1130],\n",
       "       [1185, 1185, 1185, ..., 1102, 1117, 1129]], dtype=uint16)"
      ]
     },
     "execution_count": 14,
     "metadata": {},
     "output_type": "execute_result"
    }
   ],
   "source": [
    "dataset.indexes\n",
    "(2,)\n",
    "band2 = dataset.read(2)\n",
    "band2"
   ]
  },
  {
   "cell_type": "code",
   "execution_count": 15,
   "id": "cc16ba9b-40df-4340-b126-149571bb19fa",
   "metadata": {},
   "outputs": [
    {
     "data": {
      "text/plain": [
       "array([[1291, 1291, 1281, ...,  978,  982,  988],\n",
       "       [1291, 1291, 1281, ...,  978,  982,  988],\n",
       "       [1257, 1257, 1262, ...,  990,  981,  978],\n",
       "       ...,\n",
       "       [1244, 1244, 1225, ...,  977,  972,  979],\n",
       "       [1197, 1197, 1184, ..., 1001, 1009, 1023],\n",
       "       [1142, 1142, 1116, ..., 1015, 1014, 1033]], dtype=uint16)"
      ]
     },
     "execution_count": 15,
     "metadata": {},
     "output_type": "execute_result"
    }
   ],
   "source": [
    "dataset.indexes\n",
    "(3,)\n",
    "band3 = dataset.read(3)\n",
    "band3"
   ]
  },
  {
   "cell_type": "code",
   "execution_count": 16,
   "id": "30567221-3c6d-42c2-9060-f1582a7076b7",
   "metadata": {},
   "outputs": [
    {
     "data": {
      "text/plain": [
       "array([[1600, 1600, 1589, ..., 1086, 1117, 1100],\n",
       "       [1600, 1600, 1589, ..., 1086, 1117, 1100],\n",
       "       [1550, 1550, 1546, ..., 1100, 1102, 1103],\n",
       "       ...,\n",
       "       [1523, 1523, 1509, ..., 1102, 1086, 1087],\n",
       "       [1420, 1420, 1382, ..., 1123, 1129, 1153],\n",
       "       [1314, 1314, 1286, ..., 1126, 1140, 1171]], dtype=uint16)"
      ]
     },
     "execution_count": 16,
     "metadata": {},
     "output_type": "execute_result"
    }
   ],
   "source": [
    "dataset.indexes\n",
    "(4,)\n",
    "band4 = dataset.read(4)\n",
    "band4"
   ]
  },
  {
   "cell_type": "code",
   "execution_count": 17,
   "id": "d7a4f179-5b85-45d2-8109-def3b3dd7f8c",
   "metadata": {},
   "outputs": [
    {
     "data": {
      "text/plain": [
       "array([[1680, 1680, 1670, ..., 1169, 1145, 1132],\n",
       "       [1680, 1680, 1670, ..., 1169, 1145, 1132],\n",
       "       [1666, 1666, 1655, ..., 1164, 1145, 1135],\n",
       "       ...,\n",
       "       [1687, 1687, 1557, ..., 1138, 1133, 1131],\n",
       "       [1572, 1572, 1465, ..., 1156, 1154, 1154],\n",
       "       [1502, 1502, 1405, ..., 1164, 1162, 1163]], dtype=uint16)"
      ]
     },
     "execution_count": 17,
     "metadata": {},
     "output_type": "execute_result"
    }
   ],
   "source": [
    "dataset.indexes\n",
    "(5,)\n",
    "band5 = dataset.read(5)\n",
    "band5"
   ]
  },
  {
   "cell_type": "code",
   "execution_count": 18,
   "id": "4c5212ca-58ff-4832-87e9-b94303e9e5f7",
   "metadata": {},
   "outputs": [
    {
     "data": {
      "text/plain": [
       "array([[1841, 1841, 1828, ..., 1296, 1254, 1230],\n",
       "       [1841, 1841, 1828, ..., 1296, 1254, 1230],\n",
       "       [1824, 1824, 1811, ..., 1287, 1250, 1231],\n",
       "       ...,\n",
       "       [1988, 1988, 1812, ..., 1232, 1229, 1226],\n",
       "       [1890, 1890, 1723, ..., 1253, 1252, 1250],\n",
       "       [1834, 1834, 1661, ..., 1260, 1259, 1258]], dtype=uint16)"
      ]
     },
     "execution_count": 18,
     "metadata": {},
     "output_type": "execute_result"
    }
   ],
   "source": [
    "dataset.indexes\n",
    "(6,)\n",
    "band6 = dataset.read(6)\n",
    "band6"
   ]
  },
  {
   "cell_type": "code",
   "execution_count": 19,
   "id": "760f2dc2-34ce-4fa3-817e-9a4c58a3d254",
   "metadata": {},
   "outputs": [
    {
     "data": {
      "text/plain": [
       "array([[2045, 2045, 2033, ..., 1447, 1391, 1361],\n",
       "       [2045, 2045, 2033, ..., 1447, 1391, 1361],\n",
       "       [2028, 2028, 2013, ..., 1440, 1392, 1370],\n",
       "       ...,\n",
       "       [2249, 2249, 2036, ..., 1363, 1361, 1362],\n",
       "       [2144, 2144, 1940, ..., 1390, 1390, 1392],\n",
       "       [2076, 2076, 1871, ..., 1406, 1404, 1404]], dtype=uint16)"
      ]
     },
     "execution_count": 19,
     "metadata": {},
     "output_type": "execute_result"
    }
   ],
   "source": [
    "dataset.indexes\n",
    "(7,)\n",
    "band7 = dataset.read(7)\n",
    "band7"
   ]
  },
  {
   "cell_type": "code",
   "execution_count": 20,
   "id": "9efda74e-b650-4ee8-bede-8ae8b938fb6e",
   "metadata": {},
   "outputs": [
    {
     "data": {
      "text/plain": [
       "array([[2016, 2016, 1999, ..., 1368, 1391, 1341],\n",
       "       [2016, 2016, 1999, ..., 1368, 1391, 1341],\n",
       "       [1952, 1952, 1963, ..., 1374, 1387, 1355],\n",
       "       ...,\n",
       "       [2284, 2284, 2114, ..., 1327, 1314, 1333],\n",
       "       [2170, 2170, 2003, ..., 1413, 1388, 1403],\n",
       "       [2165, 2165, 1870, ..., 1430, 1414, 1428]], dtype=uint16)"
      ]
     },
     "execution_count": 20,
     "metadata": {},
     "output_type": "execute_result"
    }
   ],
   "source": [
    "dataset.indexes\n",
    "(8,)\n",
    "band8 = dataset.read(8)\n",
    "band8"
   ]
  },
  {
   "cell_type": "code",
   "execution_count": 21,
   "id": "4d5eeb55-e4cb-4236-adf7-3093729cb11b",
   "metadata": {},
   "outputs": [
    {
     "data": {
      "text/plain": [
       "array([[546, 546, 545, ..., 442, 438, 439],\n",
       "       [546, 546, 545, ..., 442, 438, 439],\n",
       "       [541, 541, 541, ..., 444, 440, 441],\n",
       "       ...,\n",
       "       [521, 521, 501, ..., 375, 374, 374],\n",
       "       [512, 512, 492, ..., 378, 377, 376],\n",
       "       [502, 502, 483, ..., 380, 379, 379]], dtype=uint16)"
      ]
     },
     "execution_count": 21,
     "metadata": {},
     "output_type": "execute_result"
    }
   ],
   "source": [
    "dataset.indexes\n",
    "(9,)\n",
    "band9 = dataset.read(9)\n",
    "band9"
   ]
  },
  {
   "cell_type": "code",
   "execution_count": 22,
   "id": "9a805587-f98a-4be3-90c5-e9036cad3d1b",
   "metadata": {},
   "outputs": [
    {
     "data": {
      "text/plain": [
       "array([[13, 13, 13, ..., 12, 12, 12],\n",
       "       [13, 13, 13, ..., 12, 12, 12],\n",
       "       [12, 12, 13, ..., 12, 12, 12],\n",
       "       ...,\n",
       "       [12, 12, 12, ..., 12, 12, 12],\n",
       "       [12, 12, 12, ..., 11, 12, 12],\n",
       "       [12, 12, 12, ..., 11, 11, 12]], dtype=uint16)"
      ]
     },
     "execution_count": 22,
     "metadata": {},
     "output_type": "execute_result"
    }
   ],
   "source": [
    "dataset.indexes\n",
    "(10,)\n",
    "band10 = dataset.read(10)\n",
    "band10"
   ]
  },
  {
   "cell_type": "code",
   "execution_count": 23,
   "id": "79ecb6e6-c807-4df4-a02a-ac76d064d98c",
   "metadata": {},
   "outputs": [
    {
     "data": {
      "text/plain": [
       "array([[3083, 3083, 3079, ..., 2522, 2536, 2549],\n",
       "       [3083, 3083, 3079, ..., 2522, 2536, 2549],\n",
       "       [3077, 3077, 3068, ..., 2531, 2550, 2563],\n",
       "       ...,\n",
       "       [2999, 2999, 2891, ..., 2462, 2456, 2454],\n",
       "       [2880, 2880, 2800, ..., 2487, 2482, 2481],\n",
       "       [2795, 2795, 2728, ..., 2500, 2495, 2493]], dtype=uint16)"
      ]
     },
     "execution_count": 23,
     "metadata": {},
     "output_type": "execute_result"
    }
   ],
   "source": [
    "dataset.indexes\n",
    "(11,)\n",
    "band11 = dataset.read(11)\n",
    "band11"
   ]
  },
  {
   "cell_type": "code",
   "execution_count": 24,
   "id": "675092c6-ff2f-4aa0-9b2e-38692eb38cd9",
   "metadata": {},
   "outputs": [
    {
     "data": {
      "text/plain": [
       "array([[2325, 2325, 2323, ..., 2016, 2082, 2116],\n",
       "       [2325, 2325, 2323, ..., 2016, 2082, 2116],\n",
       "       [2324, 2324, 2321, ..., 2032, 2095, 2126],\n",
       "       ...,\n",
       "       [2045, 2045, 2052, ..., 2044, 2038, 2035],\n",
       "       [1992, 1992, 2014, ..., 2063, 2056, 2052],\n",
       "       [1953, 1953, 1984, ..., 2074, 2066, 2062]], dtype=uint16)"
      ]
     },
     "execution_count": 24,
     "metadata": {},
     "output_type": "execute_result"
    }
   ],
   "source": [
    "dataset.indexes\n",
    "(12,)\n",
    "band12 = dataset.read(12)\n",
    "band12"
   ]
  },
  {
   "cell_type": "code",
   "execution_count": 25,
   "id": "584903c9-bfba-4ff6-86bc-c6fb9f61f5a4",
   "metadata": {},
   "outputs": [
    {
     "data": {
      "text/plain": [
       "array([[2319, 2319, 2306, ..., 1648, 1598, 1580],\n",
       "       [2319, 2319, 2306, ..., 1648, 1598, 1580],\n",
       "       [2299, 2299, 2286, ..., 1647, 1599, 1581],\n",
       "       ...,\n",
       "       [2584, 2584, 2305, ..., 1550, 1541, 1539],\n",
       "       [2445, 2445, 2197, ..., 1579, 1574, 1574],\n",
       "       [2359, 2359, 2131, ..., 1593, 1589, 1589]], dtype=uint16)"
      ]
     },
     "execution_count": 25,
     "metadata": {},
     "output_type": "execute_result"
    }
   ],
   "source": [
    "dataset.indexes\n",
    "(13,)\n",
    "band13 = dataset.read(13)\n",
    "band13"
   ]
  },
  {
   "cell_type": "code",
   "execution_count": 26,
   "id": "de3e7895-f15e-44a5-818e-fc13a54296dc",
   "metadata": {},
   "outputs": [],
   "source": [
    "import numpy as np\n",
    "import matplotlib.pyplot as plt"
   ]
  },
  {
   "cell_type": "code",
   "execution_count": 27,
   "id": "7f019c7b-894b-4490-a617-c3511c0c8205",
   "metadata": {},
   "outputs": [],
   "source": [
    "# Create a list of arrays (band1, band2, ..., band13)\n",
    "bands = [\n",
    "    band1,band2,band3,band4,band5,band6,band7,band8,band9,band10,band11,band12,band13\n",
    "    # Add your other arrays here\n",
    "]\n"
   ]
  },
  {
   "cell_type": "code",
   "execution_count": 28,
   "id": "3cf0bd12-2dcb-4b35-878f-e765037010e7",
   "metadata": {},
   "outputs": [],
   "source": [
    "minimums = [np.min(band) for band in bands]\n",
    "maximums = [np.max(band) for band in bands]\n",
    "means = [np.mean(band) for band in bands]\n"
   ]
  },
  {
   "cell_type": "code",
   "execution_count": 29,
   "id": "291f7d3d-4261-485f-a021-4fb900d4482b",
   "metadata": {},
   "outputs": [
    {
     "data": {
      "image/png": "[encoded data removed]",
      "text/plain": [
       "<Figure size 640x480 with 1 Axes>"
      ]
     },
     "metadata": {},
     "output_type": "display_data"
    }
   ],
   "source": [
    "# Create a list of labels for the statistics\n",
    "labels = ['Minimum', 'Mean', 'Maximum']\n",
    "\n",
    "# Create lists of values for each statistic\n",
    "values = [minimums, means, maximums]\n",
    "\n",
    "# Set the number of bands (in this case, 13)\n",
    "num_bands = len(bands)\n",
    "\n",
    "# Set the width of each bar\n",
    "bar_width = 0.2\n",
    "\n",
    "# Create the x-axis positions for the bars\n",
    "x = np.arange(num_bands)\n",
    "\n",
    "# Create a bar for each statistic\n",
    "for i in range(len(labels)):\n",
    "    plt.bar(x + i * bar_width, values[i], width=bar_width, label=labels[i])\n",
    "\n",
    "# Add labels to the bars\n",
    "#for i, val in enumerate(values):\n",
    "#    for j, v in enumerate(val):\n",
    " #       plt.text(x[j] + i * bar_width, v, str(v), ha='center', va='bottom')\n",
    "\n",
    "# Add x-axis labels (band labels) with rotation and right alignment\n",
    "plt.xticks(x + bar_width * (num_bands - 1) / 2, [f'band{i}' for i in range(1, num_bands + 1)], rotation=45, ha=\"right\")\n",
    "\n",
    "# Add a title to the chart\n",
    "plt.title('Minimum, Maximum, and Mean Values for Bands')\n",
    "\n",
    "# Add a legend\n",
    "plt.legend()\n",
    "\n",
    "# Show the chart\n",
    "plt.show()\n",
    "\n",
    "\n"
   ]
  },
  {
   "cell_type": "markdown",
   "id": "b0b63a76-ce67-478c-99f8-df00d5f06a71",
   "metadata": {},
   "source": [
    "Classification using machine learning"
   ]
  },
  {
   "cell_type": "code",
   "execution_count": 30,
   "id": "bea88cf6-4a36-4af8-a8b1-43c2914c6d90",
   "metadata": {},
   "outputs": [
    {
     "name": "stdout",
     "output_type": "stream",
     "text": [
      "(27000, 10)\n"
     ]
    }
   ],
   "source": [
    "from sklearn.datasets import make_blobs\n",
    "import matplotlib.pyplot as plt\n",
    "\n",
    "n_samples = 27000\n",
    "\n",
    "X, y = make_blobs(n_samples, centers = 10, n_features = 10, random_state=1)\n",
    "print(X.shape)"
   ]
  },
  {
   "cell_type": "code",
   "execution_count": 31,
   "id": "b4a1f33e-12cf-4d5b-a4aa-fbeb749ff6f6",
   "metadata": {},
   "outputs": [
    {
     "data": {
      "text/plain": [
       "<matplotlib.collections.PathCollection at 0x7fe7f6ecfaf0>"
      ]
     },
     "execution_count": 31,
     "metadata": {},
     "output_type": "execute_result"
    },
    {
     "data": {
      "image/png": "[encoded data removed]",
      "text/plain": [
       "<Figure size 640x480 with 1 Axes>"
      ]
     },
     "metadata": {},
     "output_type": "display_data"
    }
   ],
   "source": [
    "plt.scatter(X[:1000, 0], X[:1000, 1], marker='.', c=y[:1000], cmap='viridis', alpha=0.25)"
   ]
  },
  {
   "cell_type": "code",
   "execution_count": 10,
   "id": "058712dd-e4b1-4e1e-9fb7-975ad07f3667",
   "metadata": {},
   "outputs": [
    {
     "name": "stdout",
     "output_type": "stream",
     "text": [
      "(27000, 10) (27000,)\n",
      "(18900, 10) (8100, 10)\n",
      "(18900,) (8100,)\n"
     ]
    }
   ],
   "source": [
    "from sklearn.model_selection import train_test_split\n",
    "Xtrain, Xtest, ytrain, ytest = train_test_split(X, y, test_size=0.3, random_state=42)\n",
    "\n",
    "print(X.shape, y.shape)\n",
    "print(Xtrain.shape, Xtest.shape)\n",
    "print(ytrain.shape, ytest.shape)"
   ]
  },
  {
   "cell_type": "code",
   "execution_count": 11,
   "id": "d671d873-636a-4946-8ed4-284ba7250b7a",
   "metadata": {},
   "outputs": [],
   "source": [
    "from sklearn.preprocessing import StandardScaler\n",
    "\n",
    "scaler = StandardScaler()\n",
    "scaler.fit(Xtrain)\n",
    "Xtrain = scaler.transform(Xtrain)\n",
    "Xtest = scaler.transform(Xtest)"
   ]
  },
  {
   "cell_type": "code",
   "execution_count": 12,
   "id": "0af87707-fbac-4494-acba-850b967b71f1",
   "metadata": {},
   "outputs": [],
   "source": [
    "from sklearn.neural_network import MLPClassifier\n",
    "clf = MLPClassifier(hidden_layer_sizes=(10,2))"
   ]
  },
  {
   "cell_type": "code",
   "execution_count": 13,
   "id": "29d78092-bf65-489a-804c-2593ff86b041",
   "metadata": {},
   "outputs": [
    {
     "name": "stdout",
     "output_type": "stream",
     "text": [
      "CPU times: user 8.88 s, sys: 105 ms, total: 8.99 s\n",
      "Wall time: 8.86 s\n"
     ]
    }
   ],
   "source": [
    "%%time\n",
    "# training phase\n",
    "clf.fit(Xtrain, ytrain)\n",
    "\n",
    "# classification (prediction) phase\n",
    "y_hat_skl = clf.predict(Xtest)"
   ]
  },
  {
   "cell_type": "code",
   "execution_count": 14,
   "id": "04da6874-5168-4ec4-8873-dd7762f37cd3",
   "metadata": {},
   "outputs": [
    {
     "data": {
      "image/png": "[encoded data removed]",
      "text/plain": [
       "<Figure size 640x480 with 1 Axes>"
      ]
     },
     "metadata": {},
     "output_type": "display_data"
    }
   ],
   "source": [
    "plt.scatter(y_hat_skl, ytest,c='b')\n",
    "#plt.scatter(ytest, ytest,c='k')\n",
    "#plt.title('Scatter plot')\n",
    "plt.xlabel('Predicted Values')\n",
    "plt.ylabel('Actual Values')\n",
    "plt.show()"
   ]
  },
  {
   "cell_type": "code",
   "execution_count": 15,
   "id": "0e6b0fe2-553e-4f12-a3a6-4e6353f825b8",
   "metadata": {},
   "outputs": [],
   "source": [
    "from dask.distributed import Client\n",
    "client = Client()"
   ]
  },
  {
   "cell_type": "code",
   "execution_count": 16,
   "id": "65ca7383-00ed-4be0-a171-18295b6003d7",
   "metadata": {},
   "outputs": [],
   "source": [
    "import dask.array as da\n",
    "Xd = da.from_array(X, chunks=27000)\n",
    "yd = da.from_array(y, chunks=27000)"
   ]
  },
  {
   "cell_type": "code",
   "execution_count": 17,
   "id": "566a2dbe-5e10-463a-aff0-6a4134b5591f",
   "metadata": {},
   "outputs": [
    {
     "data": {
      "text/plain": [
       "array([1, 1, 0, ..., 8, 6, 0])"
      ]
     },
     "execution_count": 17,
     "metadata": {},
     "output_type": "execute_result"
    }
   ],
   "source": [
    "yd.compute()"
   ]
  },
  {
   "cell_type": "code",
   "execution_count": 18,
   "id": "83b155b1-f9ec-4300-92a6-8f00ea2243c3",
   "metadata": {},
   "outputs": [],
   "source": [
    "# Train-Test split\n",
    "import dask_ml.model_selection as ms\n",
    "Xdtrain, Xdtest, ydtrain, ydtest = ms.train_test_split(Xd, yd, test_size=0.3, random_state=42)"
   ]
  },
  {
   "cell_type": "code",
   "execution_count": 19,
   "id": "44414b5b-46f5-4c26-aafb-1f8c1734e5b4",
   "metadata": {},
   "outputs": [],
   "source": [
    "# Scaling\n",
    "import dask_ml.preprocessing as pr\n",
    "scaler = pr.StandardScaler()\n",
    "scaler.fit(Xdtrain)\n",
    "Xdtrain = scaler.transform(Xdtrain)\n",
    "Xdtest = scaler.transform(Xdtest)"
   ]
  },
  {
   "cell_type": "code",
   "execution_count": 20,
   "id": "97aeac95-2b59-465f-853a-212463a483f5",
   "metadata": {},
   "outputs": [
    {
     "data": {
      "text/html": [
       "<table>\n",
       "    <tr>\n",
       "        <td>\n",
       "            <table>\n",
       "                <thead>\n",
       "                    <tr>\n",
       "                        <td> </td>\n",
       "                        <th> Array </th>\n",
       "                        <th> Chunk </th>\n",
       "                    </tr>\n",
       "                </thead>\n",
       "                <tbody>\n",
       "                    \n",
       "                    <tr>\n",
       "                        <th> Bytes </th>\n",
       "                        <td> 1.44 MiB </td>\n",
       "                        <td> 1.44 MiB </td>\n",
       "                    </tr>\n",
       "                    \n",
       "                    <tr>\n",
       "                        <th> Shape </th>\n",
       "                        <td> (18900, 10) </td>\n",
       "                        <td> (18900, 10) </td>\n",
       "                    </tr>\n",
       "                    <tr>\n",
       "                        <th> Count </th>\n",
       "                        <td> 9 Graph Layers </td>\n",
       "                        <td> 1 Chunks </td>\n",
       "                    </tr>\n",
       "                    <tr>\n",
       "                    <th> Type </th>\n",
       "                    <td> float64 </td>\n",
       "                    <td> numpy.ndarray </td>\n",
       "                    </tr>\n",
       "                </tbody>\n",
       "            </table>\n",
       "        </td>\n",
       "        <td>\n",
       "        <svg width=\"75\" height=\"170\" style=\"stroke:rgb(0,0,0);stroke-width:1\" >\n",
       "\n",
       "  <!-- Horizontal lines -->\n",
       "  <line x1=\"0\" y1=\"0\" x2=\"25\" y2=\"0\" style=\"stroke-width:2\" />\n",
       "  <line x1=\"0\" y1=\"120\" x2=\"25\" y2=\"120\" style=\"stroke-width:2\" />\n",
       "\n",
       "  <!-- Vertical lines -->\n",
       "  <line x1=\"0\" y1=\"0\" x2=\"0\" y2=\"120\" style=\"stroke-width:2\" />\n",
       "  <line x1=\"25\" y1=\"0\" x2=\"25\" y2=\"120\" style=\"stroke-width:2\" />\n",
       "\n",
       "  <!-- Colored Rectangle -->\n",
       "  <polygon points=\"0.0,0.0 25.412616514582485,0.0 25.412616514582485,120.0 0.0,120.0\" style=\"fill:#ECB172A0;stroke-width:0\"/>\n",
       "\n",
       "  <!-- Text -->\n",
       "  <text x=\"12.706308\" y=\"140.000000\" font-size=\"1.0rem\" font-weight=\"100\" text-anchor=\"middle\" >10</text>\n",
       "  <text x=\"45.412617\" y=\"60.000000\" font-size=\"1.0rem\" font-weight=\"100\" text-anchor=\"middle\" transform=\"rotate(-90,45.412617,60.000000)\">18900</text>\n",
       "</svg>\n",
       "        </td>\n",
       "    </tr>\n",
       "</table>"
      ],
      "text/plain": [
       "dask.array<truediv, shape=(18900, 10), dtype=float64, chunksize=(18900, 10), chunktype=numpy.ndarray>"
      ]
     },
     "execution_count": 20,
     "metadata": {},
     "output_type": "execute_result"
    }
   ],
   "source": [
    "Xdtrain"
   ]
  },
  {
   "cell_type": "code",
   "execution_count": 21,
   "id": "a4395324-b73a-4321-be5d-18f67de52251",
   "metadata": {},
   "outputs": [
    {
     "data": {
      "text/html": [
       "<table>\n",
       "    <tr>\n",
       "        <td>\n",
       "            <table>\n",
       "                <thead>\n",
       "                    <tr>\n",
       "                        <td> </td>\n",
       "                        <th> Array </th>\n",
       "                        <th> Chunk </th>\n",
       "                    </tr>\n",
       "                </thead>\n",
       "                <tbody>\n",
       "                    \n",
       "                    <tr>\n",
       "                        <th> Bytes </th>\n",
       "                        <td> 632.81 kiB </td>\n",
       "                        <td> 632.81 kiB </td>\n",
       "                    </tr>\n",
       "                    \n",
       "                    <tr>\n",
       "                        <th> Shape </th>\n",
       "                        <td> (8100, 10) </td>\n",
       "                        <td> (8100, 10) </td>\n",
       "                    </tr>\n",
       "                    <tr>\n",
       "                        <th> Count </th>\n",
       "                        <td> 9 Graph Layers </td>\n",
       "                        <td> 1 Chunks </td>\n",
       "                    </tr>\n",
       "                    <tr>\n",
       "                    <th> Type </th>\n",
       "                    <td> float64 </td>\n",
       "                    <td> numpy.ndarray </td>\n",
       "                    </tr>\n",
       "                </tbody>\n",
       "            </table>\n",
       "        </td>\n",
       "        <td>\n",
       "        <svg width=\"75\" height=\"170\" style=\"stroke:rgb(0,0,0);stroke-width:1\" >\n",
       "\n",
       "  <!-- Horizontal lines -->\n",
       "  <line x1=\"0\" y1=\"0\" x2=\"25\" y2=\"0\" style=\"stroke-width:2\" />\n",
       "  <line x1=\"0\" y1=\"120\" x2=\"25\" y2=\"120\" style=\"stroke-width:2\" />\n",
       "\n",
       "  <!-- Vertical lines -->\n",
       "  <line x1=\"0\" y1=\"0\" x2=\"0\" y2=\"120\" style=\"stroke-width:2\" />\n",
       "  <line x1=\"25\" y1=\"0\" x2=\"25\" y2=\"120\" style=\"stroke-width:2\" />\n",
       "\n",
       "  <!-- Colored Rectangle -->\n",
       "  <polygon points=\"0.0,0.0 25.412616514582485,0.0 25.412616514582485,120.0 0.0,120.0\" style=\"fill:#ECB172A0;stroke-width:0\"/>\n",
       "\n",
       "  <!-- Text -->\n",
       "  <text x=\"12.706308\" y=\"140.000000\" font-size=\"1.0rem\" font-weight=\"100\" text-anchor=\"middle\" >10</text>\n",
       "  <text x=\"45.412617\" y=\"60.000000\" font-size=\"1.0rem\" font-weight=\"100\" text-anchor=\"middle\" transform=\"rotate(-90,45.412617,60.000000)\">8100</text>\n",
       "</svg>\n",
       "        </td>\n",
       "    </tr>\n",
       "</table>"
      ],
      "text/plain": [
       "dask.array<truediv, shape=(8100, 10), dtype=float64, chunksize=(8100, 10), chunktype=numpy.ndarray>"
      ]
     },
     "execution_count": 21,
     "metadata": {},
     "output_type": "execute_result"
    }
   ],
   "source": [
    "Xdtest"
   ]
  },
  {
   "cell_type": "code",
   "execution_count": 22,
   "id": "ccf785e9-16c8-4d2a-a724-8830216cac6c",
   "metadata": {},
   "outputs": [],
   "source": [
    "from sklearn.neural_network import MLPClassifier\n",
    "from joblib import parallel_backend"
   ]
  },
  {
   "cell_type": "code",
   "execution_count": 23,
   "id": "a34394f1-9eb7-48cc-bdda-b5627781f869",
   "metadata": {},
   "outputs": [],
   "source": [
    "clf = MLPClassifier(hidden_layer_sizes=(10, 2), random_state=1)"
   ]
  },
  {
   "cell_type": "code",
   "execution_count": 24,
   "id": "356054de-2e8b-48a2-b833-7c6e890d3dd2",
   "metadata": {},
   "outputs": [
    {
     "name": "stdout",
     "output_type": "stream",
     "text": [
      "CPU times: user 15.3 s, sys: 1.27 s, total: 16.6 s\n",
      "Wall time: 20 s\n"
     ]
    }
   ],
   "source": [
    "%%time\n",
    "# Training an MLP model and classification\n",
    "with parallel_backend('dask'):\n",
    "    clf.fit(Xdtrain, ydtrain)\n",
    "    yd_hat = clf.predict(Xdtest)"
   ]
  },
  {
   "cell_type": "code",
   "execution_count": 25,
   "id": "6c3970bc-6aaf-4ad5-bbe6-2bdb8e540cec",
   "metadata": {},
   "outputs": [
    {
     "name": "stdout",
     "output_type": "stream",
     "text": [
      "[4 9 2 7 7 3 5 2 0 7]\n",
      "[4 9 2 7 7 3 5 2 0 7]\n"
     ]
    }
   ],
   "source": [
    "print(ytest[:10])\n",
    "print(y_hat_skl[:10])"
   ]
  },
  {
   "cell_type": "code",
   "execution_count": 26,
   "id": "a772f64d-9f06-46a3-8de2-6e2b22ad1646",
   "metadata": {},
   "outputs": [
    {
     "data": {
      "image/png": "[encoded data removed]",
      "text/plain": [
       "<Figure size 640x480 with 1 Axes>"
      ]
     },
     "metadata": {},
     "output_type": "display_data"
    }
   ],
   "source": [
    "plt.scatter(yd_hat, ydtest,c='b')\n",
    "#plt.scatter(ytest, ytest,c='k')\n",
    "#plt.title('Scatter plot')\n",
    "plt.xlabel('Predicted Values')\n",
    "plt.ylabel('Actual Values')\n",
    "plt.show()"
   ]
  },
  {
   "cell_type": "code",
   "execution_count": null,
   "id": "3793b91c-7489-412c-ae18-728ac7a3a074",
   "metadata": {},
   "outputs": [],
   "source": []
  },
  {
   "cell_type": "markdown",
   "id": "c7b9efa3-94b9-461b-84ca-6e04be0e8442",
   "metadata": {},
   "source": [
    "------ Optimization ------ "
   ]
  },
  {
   "cell_type": "code",
   "execution_count": 27,
   "id": "6320b34e-50e0-4ba5-9599-9e478bd5cf29",
   "metadata": {},
   "outputs": [],
   "source": [
    "%matplotlib inline"
   ]
  },
  {
   "cell_type": "code",
   "execution_count": 29,
   "id": "69c8062f-4a6b-483c-bafa-4765c7ac645b",
   "metadata": {},
   "outputs": [
    {
     "name": "stderr",
     "output_type": "stream",
     "text": [
      "/usr/local/lib/python3.8/dist-packages/distributed/node.py:183: UserWarning: Port 8787 is already in use.\n",
      "Perhaps you already have a cluster running?\n",
      "Hosting the HTTP server on port 35421 instead\n",
      "  warnings.warn(\n"
     ]
    },
    {
     "data": {
      "text/html": [
       "<div>\n",
       "    <div style=\"width: 24px; height: 24px; background-color: #e1e1e1; border: 3px solid #9D9D9D; border-radius: 5px; position: absolute;\"> </div>\n",
       "    <div style=\"margin-left: 48px;\">\n",
       "        <h3 style=\"margin-bottom: 0px;\">Client</h3>\n",
       "        <p style=\"color: #9D9D9D; margin-bottom: 0px;\">Client-b8c9eeb7-7b1b-11ee-8111-02420a013b86</p>\n",
       "        <table style=\"width: 100%; text-align: left;\">\n",
       "\n",
       "        <tr>\n",
       "        \n",
       "            <td style=\"text-align: left;\"><strong>Connection method:</strong> Cluster object</td>\n",
       "            <td style=\"text-align: left;\"><strong>Cluster type:</strong> distributed.LocalCluster</td>\n",
       "        \n",
       "        </tr>\n",
       "\n",
       "        \n",
       "            <tr>\n",
       "                <td style=\"text-align: left;\">\n",
       "                    <strong>Dashboard: </strong> <a href=\"http://172.18.0.4:35421/status\" target=\"_blank\">http://172.18.0.4:35421/status</a>\n",
       "                </td>\n",
       "                <td style=\"text-align: left;\"></td>\n",
       "            </tr>\n",
       "        \n",
       "\n",
       "        </table>\n",
       "\n",
       "        \n",
       "            <details>\n",
       "            <summary style=\"margin-bottom: 20px;\"><h3 style=\"display: inline;\">Cluster Info</h3></summary>\n",
       "            <div class=\"jp-RenderedHTMLCommon jp-RenderedHTML jp-mod-trusted jp-OutputArea-output\">\n",
       "    <div style=\"width: 24px; height: 24px; background-color: #e1e1e1; border: 3px solid #9D9D9D; border-radius: 5px; position: absolute;\">\n",
       "    </div>\n",
       "    <div style=\"margin-left: 48px;\">\n",
       "        <h3 style=\"margin-bottom: 0px; margin-top: 0px;\">LocalCluster</h3>\n",
       "        <p style=\"color: #9D9D9D; margin-bottom: 0px;\">805a3bb4</p>\n",
       "        <table style=\"width: 100%; text-align: left;\">\n",
       "            <tr>\n",
       "                <td style=\"text-align: left;\">\n",
       "                    <strong>Dashboard:</strong> <a href=\"http://172.18.0.4:35421/status\" target=\"_blank\">http://172.18.0.4:35421/status</a>\n",
       "                </td>\n",
       "                <td style=\"text-align: left;\">\n",
       "                    <strong>Workers:</strong> 1\n",
       "                </td>\n",
       "            </tr>\n",
       "            <tr>\n",
       "                <td style=\"text-align: left;\">\n",
       "                    <strong>Total threads:</strong> 2\n",
       "                </td>\n",
       "                <td style=\"text-align: left;\">\n",
       "                    <strong>Total memory:</strong> 7.45 GiB\n",
       "                </td>\n",
       "            </tr>\n",
       "            \n",
       "            <tr>\n",
       "    <td style=\"text-align: left;\"><strong>Status:</strong> running</td>\n",
       "    <td style=\"text-align: left;\"><strong>Using processes:</strong> False</td>\n",
       "</tr>\n",
       "\n",
       "            \n",
       "        </table>\n",
       "\n",
       "        <details>\n",
       "            <summary style=\"margin-bottom: 20px;\">\n",
       "                <h3 style=\"display: inline;\">Scheduler Info</h3>\n",
       "            </summary>\n",
       "\n",
       "            <div style=\"\">\n",
       "    <div>\n",
       "        <div style=\"width: 24px; height: 24px; background-color: #FFF7E5; border: 3px solid #FF6132; border-radius: 5px; position: absolute;\"> </div>\n",
       "        <div style=\"margin-left: 48px;\">\n",
       "            <h3 style=\"margin-bottom: 0px;\">Scheduler</h3>\n",
       "            <p style=\"color: #9D9D9D; margin-bottom: 0px;\">Scheduler-7dc232d9-87c7-4d61-86f7-9d4bf36eb74e</p>\n",
       "            <table style=\"width: 100%; text-align: left;\">\n",
       "                <tr>\n",
       "                    <td style=\"text-align: left;\">\n",
       "                        <strong>Comm:</strong> inproc://172.18.0.4/273/9\n",
       "                    </td>\n",
       "                    <td style=\"text-align: left;\">\n",
       "                        <strong>Workers:</strong> 1\n",
       "                    </td>\n",
       "                </tr>\n",
       "                <tr>\n",
       "                    <td style=\"text-align: left;\">\n",
       "                        <strong>Dashboard:</strong> <a href=\"http://172.18.0.4:35421/status\" target=\"_blank\">http://172.18.0.4:35421/status</a>\n",
       "                    </td>\n",
       "                    <td style=\"text-align: left;\">\n",
       "                        <strong>Total threads:</strong> 2\n",
       "                    </td>\n",
       "                </tr>\n",
       "                <tr>\n",
       "                    <td style=\"text-align: left;\">\n",
       "                        <strong>Started:</strong> Just now\n",
       "                    </td>\n",
       "                    <td style=\"text-align: left;\">\n",
       "                        <strong>Total memory:</strong> 7.45 GiB\n",
       "                    </td>\n",
       "                </tr>\n",
       "            </table>\n",
       "        </div>\n",
       "    </div>\n",
       "\n",
       "    <details style=\"margin-left: 48px;\">\n",
       "        <summary style=\"margin-bottom: 20px;\">\n",
       "            <h3 style=\"display: inline;\">Workers</h3>\n",
       "        </summary>\n",
       "\n",
       "        \n",
       "        <div style=\"margin-bottom: 20px;\">\n",
       "            <div style=\"width: 24px; height: 24px; background-color: #DBF5FF; border: 3px solid #4CC9FF; border-radius: 5px; position: absolute;\"> </div>\n",
       "            <div style=\"margin-left: 48px;\">\n",
       "            <details>\n",
       "                <summary>\n",
       "                    <h4 style=\"margin-bottom: 0px; display: inline;\">Worker: 0</h4>\n",
       "                </summary>\n",
       "                <table style=\"width: 100%; text-align: left;\">\n",
       "                    <tr>\n",
       "                        <td style=\"text-align: left;\">\n",
       "                            <strong>Comm: </strong> inproc://172.18.0.4/273/12\n",
       "                        </td>\n",
       "                        <td style=\"text-align: left;\">\n",
       "                            <strong>Total threads: </strong> 2\n",
       "                        </td>\n",
       "                    </tr>\n",
       "                    <tr>\n",
       "                        <td style=\"text-align: left;\">\n",
       "                            <strong>Dashboard: </strong> <a href=\"http://172.18.0.4:43819/status\" target=\"_blank\">http://172.18.0.4:43819/status</a>\n",
       "                        </td>\n",
       "                        <td style=\"text-align: left;\">\n",
       "                            <strong>Memory: </strong> 7.45 GiB\n",
       "                        </td>\n",
       "                    </tr>\n",
       "                    <tr>\n",
       "                        <td style=\"text-align: left;\">\n",
       "                            <strong>Nanny: </strong> None\n",
       "                        </td>\n",
       "                        <td style=\"text-align: left;\"></td>\n",
       "                    </tr>\n",
       "                    <tr>\n",
       "                        <td colspan=\"2\" style=\"text-align: left;\">\n",
       "                            <strong>Local directory: </strong> /tmp/dask-worker-space/dask-worker-space/worker-wx88lxvh\n",
       "                        </td>\n",
       "                    </tr>\n",
       "\n",
       "                    \n",
       "                    <tr>\n",
       "                        <td style=\"text-align: left;\">\n",
       "                            <strong>GPU: </strong>NVIDIA RTX A4000\n",
       "                        </td>\n",
       "                        <td style=\"text-align: left;\">\n",
       "                            <strong>GPU memory: </strong> 15.99 GiB\n",
       "                        </td>\n",
       "                    </tr>\n",
       "                    \n",
       "\n",
       "                    \n",
       "\n",
       "                </table>\n",
       "            </details>\n",
       "            </div>\n",
       "        </div>\n",
       "        \n",
       "\n",
       "    </details>\n",
       "</div>\n",
       "\n",
       "        </details>\n",
       "    </div>\n",
       "</div>\n",
       "            </details>\n",
       "        \n",
       "\n",
       "    </div>\n",
       "</div>"
      ],
      "text/plain": [
       "<Client: 'inproc://172.18.0.4/273/9' processes=1 threads=2, memory=7.45 GiB>"
      ]
     },
     "execution_count": 29,
     "metadata": {},
     "output_type": "execute_result"
    }
   ],
   "source": [
    "from distributed import Client\n",
    "client = Client(processes=False, threads_per_worker=2,\n",
    "                n_workers=1, memory_limit='8GB')\n",
    "client"
   ]
  },
  {
   "cell_type": "code",
   "execution_count": 39,
   "id": "33b9e574-2fbf-4cbf-9b59-9e014982fd83",
   "metadata": {},
   "outputs": [
    {
     "data": {
      "image/png": "[encoded data removed]",
      "text/plain": [
       "<Figure size 640x480 with 2 Axes>"
      ]
     },
     "metadata": {},
     "output_type": "display_data"
    }
   ],
   "source": [
    "from sklearn.datasets import make_circles\n",
    "import numpy as np\n",
    "import pandas as pd\n",
    "from skimage import io\n",
    "from sklearn.preprocessing import StandardScaler\n",
    "\n",
    "image_dir = '/data/shared/Big-Geodata-Processing-2023-1A/Exercise3/EuroSAT_MS/'\n",
    "\n",
    "\n",
    "for filename in os.listdir(image_dir):\n",
    "    if filename.endswith('.tif'):\n",
    "        # Create the full file path\n",
    "        image_path = os.path.join(image_dir, filename)\n",
    "\n",
    "        # Load and process the image using rasterio\n",
    "        with rasterio.open(image_path) as src:\n",
    "            image = src.read(1)  # Assuming a single-band image (modify if you have multi-band)\n",
    "        \n",
    "\n",
    "X, y = make_circles(n_samples=27_000, random_state=0, noise=0.09)\n",
    "\n",
    "pd.DataFrame({0: X[:, 0], 1: X[:, 1], \"class\": y}).sample(4_000).plot.scatter(\n",
    "    x=0, y=1, alpha=0.2, c=\"class\", cmap=\"bwr\"\n",
    ");"
   ]
  },
  {
   "cell_type": "code",
   "execution_count": 3,
   "id": "d0e5b529-84a0-4743-9775-cf20ec31fc6f",
   "metadata": {},
   "outputs": [
    {
     "data": {
      "text/plain": [
       "array([[-0.3979998 , -1.0347746 , -0.25091976,  0.90142861,  0.46398788,\n",
       "         0.19731697],\n",
       "       [-0.78925146,  0.10099755, -0.68796272, -0.68801096, -0.88383278,\n",
       "         0.73235229],\n",
       "       [-0.55579671, -0.55817125,  0.20223002,  0.41614516, -0.95883101,\n",
       "         0.9398197 ],\n",
       "       ...,\n",
       "       [-0.17070238, -1.01796778, -0.17195063, -0.10772905, -0.50787432,\n",
       "         0.58981792],\n",
       "       [ 0.35076462, -1.07490142, -0.60951614,  0.07860909, -0.35510734,\n",
       "         0.43798303],\n",
       "       [ 0.32812697,  1.08819604,  0.38238141,  0.39663294,  0.77066811,\n",
       "         0.56153793]])"
      ]
     },
     "execution_count": 3,
     "metadata": {},
     "output_type": "execute_result"
    }
   ],
   "source": [
    "from sklearn.utils import check_random_state\n",
    "\n",
    "rng = check_random_state(42)\n",
    "random_feats = rng.uniform(-1, 1, size=(X.shape[0], 4))\n",
    "X = np.hstack((X, random_feats))\n",
    "X"
   ]
  },
  {
   "cell_type": "code",
   "execution_count": 4,
   "id": "b58e8258-5476-4014-9d6f-c7ec8d1795ff",
   "metadata": {},
   "outputs": [],
   "source": [
    "from sklearn.model_selection import train_test_split\n",
    "X_train, X_test, y_train, y_test = train_test_split(X, y, test_size=5_000, random_state=42)"
   ]
  },
  {
   "cell_type": "code",
   "execution_count": 5,
   "id": "3d5b553c-89c6-46d2-bbbd-1f3922a1574e",
   "metadata": {},
   "outputs": [],
   "source": [
    "from sklearn.preprocessing import StandardScaler\n",
    "from sklearn.model_selection import train_test_split\n",
    "scaler = StandardScaler().fit(X_train)\n",
    "\n",
    "X_train = scaler.transform(X_train)\n",
    "X_test = scaler.transform(X_test)"
   ]
  },
  {
   "cell_type": "code",
   "execution_count": 6,
   "id": "e2708ffc-6e31-425f-bf44-2a2af33f75d9",
   "metadata": {},
   "outputs": [
    {
     "name": "stdout",
     "output_type": "stream",
     "text": [
      "dataset = train\n",
      "shape = (22000, 6)\n",
      "bytes = 1.01 MiB\n",
      "--------------------\n",
      "dataset = test\n",
      "shape = (5000, 6)\n",
      "bytes = 234.38 kiB\n",
      "--------------------\n"
     ]
    }
   ],
   "source": [
    "from dask.utils import format_bytes\n",
    "\n",
    "for name, X in [(\"train\", X_train), (\"test\", X_test)]:\n",
    "    print(\"dataset =\", name)\n",
    "    print(\"shape =\", X.shape)\n",
    "    print(\"bytes =\", format_bytes(X.nbytes))\n",
    "    print(\"-\" * 20)"
   ]
  },
  {
   "cell_type": "code",
   "execution_count": 7,
   "id": "458b1be1-4968-4071-8d39-5efa10ca95a3",
   "metadata": {},
   "outputs": [],
   "source": [
    "import numpy as np\n",
    "from sklearn.neural_network import MLPClassifier\n",
    "\n",
    "model = MLPClassifier()"
   ]
  },
  {
   "cell_type": "code",
   "execution_count": 8,
   "id": "db1bcf81-1af6-4974-8b9f-c4f21d0a66b6",
   "metadata": {},
   "outputs": [],
   "source": [
    "params = {\n",
    "    \"hidden_layer_sizes\": [\n",
    "        (24, ),\n",
    "        (12, 12),\n",
    "        (6, 6, 6, 6),\n",
    "        (4, 4, 4, 4, 4, 4),\n",
    "        (12, 6, 3, 3),\n",
    "    ],\n",
    "    \"activation\": [\"relu\", \"logistic\", \"tanh\"],\n",
    "    \"alpha\": np.logspace(-6, -3, num=1000),  # cnts\n",
    "    \"batch_size\": [16, 32, 64, 128, 256, 512],\n",
    "}"
   ]
  },
  {
   "cell_type": "code",
   "execution_count": 9,
   "id": "491d8131-3357-4f54-b3cf-05861f9f9467",
   "metadata": {},
   "outputs": [],
   "source": [
    "from dask_ml.model_selection import HyperbandSearchCV"
   ]
  },
  {
   "cell_type": "code",
   "execution_count": 10,
   "id": "1262352d-7ce6-4b44-8c05-0108b91a57aa",
   "metadata": {},
   "outputs": [],
   "source": [
    "# For quick response\n",
    "n_examples = 4 * len(X_train)\n",
    "n_params = 8\n",
    "\n",
    "# In practice, HyperbandSearchCV is most useful for longer searches\n",
    "# n_examples = 15 * len(X_train)\n",
    "# n_params = 15"
   ]
  },
  {
   "cell_type": "code",
   "execution_count": 11,
   "id": "8aafeb99-d2ab-41aa-80d0-277846d2ce3b",
   "metadata": {},
   "outputs": [
    {
     "data": {
      "text/plain": [
       "(8, 11000)"
      ]
     },
     "execution_count": 11,
     "metadata": {},
     "output_type": "execute_result"
    }
   ],
   "source": [
    "max_iter = n_params  # number of times partial_fit will be called\n",
    "chunks = n_examples // n_params  # number of examples each call sees\n",
    "\n",
    "max_iter, chunks"
   ]
  },
  {
   "cell_type": "code",
   "execution_count": 12,
   "id": "cac3cb4e-ac9c-4960-a43d-f17d8949ff62",
   "metadata": {},
   "outputs": [
    {
     "data": {
      "text/html": [
       "<table>\n",
       "    <tr>\n",
       "        <td>\n",
       "            <table>\n",
       "                <thead>\n",
       "                    <tr>\n",
       "                        <td> </td>\n",
       "                        <th> Array </th>\n",
       "                        <th> Chunk </th>\n",
       "                    </tr>\n",
       "                </thead>\n",
       "                <tbody>\n",
       "                    \n",
       "                    <tr>\n",
       "                        <th> Bytes </th>\n",
       "                        <td> 1.01 MiB </td>\n",
       "                        <td> 515.62 kiB </td>\n",
       "                    </tr>\n",
       "                    \n",
       "                    <tr>\n",
       "                        <th> Shape </th>\n",
       "                        <td> (22000, 6) </td>\n",
       "                        <td> (11000, 6) </td>\n",
       "                    </tr>\n",
       "                    <tr>\n",
       "                        <th> Count </th>\n",
       "                        <td> 1 Graph Layer </td>\n",
       "                        <td> 2 Chunks </td>\n",
       "                    </tr>\n",
       "                    <tr>\n",
       "                    <th> Type </th>\n",
       "                    <td> float64 </td>\n",
       "                    <td> numpy.ndarray </td>\n",
       "                    </tr>\n",
       "                </tbody>\n",
       "            </table>\n",
       "        </td>\n",
       "        <td>\n",
       "        <svg width=\"75\" height=\"170\" style=\"stroke:rgb(0,0,0);stroke-width:1\" >\n",
       "\n",
       "  <!-- Horizontal lines -->\n",
       "  <line x1=\"0\" y1=\"0\" x2=\"25\" y2=\"0\" style=\"stroke-width:2\" />\n",
       "  <line x1=\"0\" y1=\"60\" x2=\"25\" y2=\"60\" />\n",
       "  <line x1=\"0\" y1=\"120\" x2=\"25\" y2=\"120\" style=\"stroke-width:2\" />\n",
       "\n",
       "  <!-- Vertical lines -->\n",
       "  <line x1=\"0\" y1=\"0\" x2=\"0\" y2=\"120\" style=\"stroke-width:2\" />\n",
       "  <line x1=\"25\" y1=\"0\" x2=\"25\" y2=\"120\" style=\"stroke-width:2\" />\n",
       "\n",
       "  <!-- Colored Rectangle -->\n",
       "  <polygon points=\"0.0,0.0 25.412616514582485,0.0 25.412616514582485,120.0 0.0,120.0\" style=\"fill:#ECB172A0;stroke-width:0\"/>\n",
       "\n",
       "  <!-- Text -->\n",
       "  <text x=\"12.706308\" y=\"140.000000\" font-size=\"1.0rem\" font-weight=\"100\" text-anchor=\"middle\" >6</text>\n",
       "  <text x=\"45.412617\" y=\"60.000000\" font-size=\"1.0rem\" font-weight=\"100\" text-anchor=\"middle\" transform=\"rotate(-90,45.412617,60.000000)\">22000</text>\n",
       "</svg>\n",
       "        </td>\n",
       "    </tr>\n",
       "</table>"
      ],
      "text/plain": [
       "dask.array<array, shape=(22000, 6), dtype=float64, chunksize=(11000, 6), chunktype=numpy.ndarray>"
      ]
     },
     "execution_count": 12,
     "metadata": {},
     "output_type": "execute_result"
    }
   ],
   "source": [
    "import dask.array as da\n",
    "X_train2 = da.from_array(X_train, chunks=chunks)\n",
    "y_train2 = da.from_array(y_train, chunks=chunks)\n",
    "X_train2"
   ]
  },
  {
   "cell_type": "code",
   "execution_count": 13,
   "id": "63236366-9c43-44df-8de1-a59ad67a20d3",
   "metadata": {},
   "outputs": [],
   "source": [
    "search = HyperbandSearchCV(\n",
    "    model,\n",
    "    params,\n",
    "    max_iter=max_iter,\n",
    "    patience=True,\n",
    ")"
   ]
  },
  {
   "cell_type": "code",
   "execution_count": 14,
   "id": "e8d9fcdc-56f1-4294-927e-25fcb4f5cfdd",
   "metadata": {},
   "outputs": [
    {
     "data": {
      "text/plain": [
       "26"
      ]
     },
     "execution_count": 14,
     "metadata": {},
     "output_type": "execute_result"
    }
   ],
   "source": [
    "search.metadata[\"partial_fit_calls\"]"
   ]
  },
  {
   "cell_type": "code",
   "execution_count": 15,
   "id": "bc3b78f4-a024-4ee1-9a12-434cc6185b68",
   "metadata": {},
   "outputs": [],
   "source": [
    "import dask.dataframe as dd\n",
    "from dask_ml.model_selection import train_test_split\n",
    "from dask_ml.linear_model import LogisticRegression\n",
    "from dask_ml.metrics import accuracy_score"
   ]
  },
  {
   "cell_type": "code",
   "execution_count": 16,
   "id": "b9f77bfe-8d8f-436d-9e0a-c3a74b351552",
   "metadata": {},
   "outputs": [
    {
     "name": "stderr",
     "output_type": "stream",
     "text": [
      "/usr/local/lib/python3.8/dist-packages/dask_ml/model_selection/_incremental.py:642: VisibleDeprecationWarning: Creating an ndarray from ragged nested sequences (which is a list-or-tuple of lists-or-tuples-or ndarrays with different lengths or shapes) is deprecated. If you meant to do this, you must specify 'dtype=object' when creating the ndarray.\n",
      "  cv_results = {k: np.array(v) for k, v in cv_results.items()}\n",
      "/usr/local/lib/python3.8/dist-packages/dask_ml/model_selection/_incremental.py:642: VisibleDeprecationWarning: Creating an ndarray from ragged nested sequences (which is a list-or-tuple of lists-or-tuples-or ndarrays with different lengths or shapes) is deprecated. If you meant to do this, you must specify 'dtype=object' when creating the ndarray.\n",
      "  cv_results = {k: np.array(v) for k, v in cv_results.items()}\n",
      "/usr/local/lib/python3.8/dist-packages/dask_ml/model_selection/_hyperband.py:455: VisibleDeprecationWarning: Creating an ndarray from ragged nested sequences (which is a list-or-tuple of lists-or-tuples-or ndarrays with different lengths or shapes) is deprecated. If you meant to do this, you must specify 'dtype=object' when creating the ndarray.\n",
      "  cv_results = {k: np.array(v) for k, v in cv_results.items()}\n"
     ]
    },
    {
     "name": "stdout",
     "output_type": "stream",
     "text": [
      "CPU times: user 19.2 s, sys: 23.1 s, total: 42.3 s\n",
      "Wall time: 3.04 s\n"
     ]
    },
    {
     "data": {
      "text/html": [
       "<style>#sk-container-id-1 {color: black;background-color: white;}#sk-container-id-1 pre{padding: 0;}#sk-container-id-1 div.sk-toggleable {background-color: white;}#sk-container-id-1 label.sk-toggleable__label {cursor: pointer;display: block;width: 100%;margin-bottom: 0;padding: 0.3em;box-sizing: border-box;text-align: center;}#sk-container-id-1 label.sk-toggleable__label-arrow:before {content: \"▸\";float: left;margin-right: 0.25em;color: #696969;}#sk-container-id-1 label.sk-toggleable__label-arrow:hover:before {color: black;}#sk-container-id-1 div.sk-estimator:hover label.sk-toggleable__label-arrow:before {color: black;}#sk-container-id-1 div.sk-toggleable__content {max-height: 0;max-width: 0;overflow: hidden;text-align: left;background-color: #f0f8ff;}#sk-container-id-1 div.sk-toggleable__content pre {margin: 0.2em;color: black;border-radius: 0.25em;background-color: #f0f8ff;}#sk-container-id-1 input.sk-toggleable__control:checked~div.sk-toggleable__content {max-height: 200px;max-width: 100%;overflow: auto;}#sk-container-id-1 input.sk-toggleable__control:checked~label.sk-toggleable__label-arrow:before {content: \"▾\";}#sk-container-id-1 div.sk-estimator input.sk-toggleable__control:checked~label.sk-toggleable__label {background-color: #d4ebff;}#sk-container-id-1 div.sk-label input.sk-toggleable__control:checked~label.sk-toggleable__label {background-color: #d4ebff;}#sk-container-id-1 input.sk-hidden--visually {border: 0;clip: rect(1px 1px 1px 1px);clip: rect(1px, 1px, 1px, 1px);height: 1px;margin: -1px;overflow: hidden;padding: 0;position: absolute;width: 1px;}#sk-container-id-1 div.sk-estimator {font-family: monospace;background-color: #f0f8ff;border: 1px dotted black;border-radius: 0.25em;box-sizing: border-box;margin-bottom: 0.5em;}#sk-container-id-1 div.sk-estimator:hover {background-color: #d4ebff;}#sk-container-id-1 div.sk-parallel-item::after {content: \"\";width: 100%;border-bottom: 1px solid gray;flex-grow: 1;}#sk-container-id-1 div.sk-label:hover label.sk-toggleable__label {background-color: #d4ebff;}#sk-container-id-1 div.sk-serial::before {content: \"\";position: absolute;border-left: 1px solid gray;box-sizing: border-box;top: 0;bottom: 0;left: 50%;z-index: 0;}#sk-container-id-1 div.sk-serial {display: flex;flex-direction: column;align-items: center;background-color: white;padding-right: 0.2em;padding-left: 0.2em;position: relative;}#sk-container-id-1 div.sk-item {position: relative;z-index: 1;}#sk-container-id-1 div.sk-parallel {display: flex;align-items: stretch;justify-content: center;background-color: white;position: relative;}#sk-container-id-1 div.sk-item::before, #sk-container-id-1 div.sk-parallel-item::before {content: \"\";position: absolute;border-left: 1px solid gray;box-sizing: border-box;top: 0;bottom: 0;left: 50%;z-index: -1;}#sk-container-id-1 div.sk-parallel-item {display: flex;flex-direction: column;z-index: 1;position: relative;background-color: white;}#sk-container-id-1 div.sk-parallel-item:first-child::after {align-self: flex-end;width: 50%;}#sk-container-id-1 div.sk-parallel-item:last-child::after {align-self: flex-start;width: 50%;}#sk-container-id-1 div.sk-parallel-item:only-child::after {width: 0;}#sk-container-id-1 div.sk-dashed-wrapped {border: 1px dashed gray;margin: 0 0.4em 0.5em 0.4em;box-sizing: border-box;padding-bottom: 0.4em;background-color: white;}#sk-container-id-1 div.sk-label label {font-family: monospace;font-weight: bold;display: inline-block;line-height: 1.2em;}#sk-container-id-1 div.sk-label-container {text-align: center;}#sk-container-id-1 div.sk-container {/* jupyter's `normalize.less` sets `[hidden] { display: none; }` but bootstrap.min.css set `[hidden] { display: none !important; }` so we also need the `!important` here to be able to override the default hidden behavior on the sphinx rendered scikit-learn.org. See: https://github.com/scikit-learn/scikit-learn/issues/21755 */display: inline-block !important;position: relative;}#sk-container-id-1 div.sk-text-repr-fallback {display: none;}</style><div id=\"sk-container-id-1\" class=\"sk-top-container\"><div class=\"sk-text-repr-fallback\"><pre>HyperbandSearchCV(estimator=MLPClassifier(), max_iter=8,\n",
       "                  parameters={&#x27;activation&#x27;: [&#x27;relu&#x27;, &#x27;logistic&#x27;, &#x27;tanh&#x27;],\n",
       "                              &#x27;alpha&#x27;: array([1.00000000e-06, 1.00693863e-06, 1.01392541e-06, 1.02096066e-06,\n",
       "       1.02804473e-06, 1.03517796e-06, 1.04236067e-06, 1.04959323e-06,\n",
       "       1.05687597e-06, 1.06420924e-06, 1.07159340e-06, 1.07902879e-06,\n",
       "       1.08651577e-06, 1.09405471e-06, 1.10164595e-06, 1.1...\n",
       "       9.01477631e-04, 9.07732653e-04, 9.14031075e-04, 9.20373200e-04,\n",
       "       9.26759330e-04, 9.33189772e-04, 9.39664831e-04, 9.46184819e-04,\n",
       "       9.52750047e-04, 9.59360829e-04, 9.66017480e-04, 9.72720319e-04,\n",
       "       9.79469667e-04, 9.86265846e-04, 9.93109181e-04, 1.00000000e-03]),\n",
       "                              &#x27;batch_size&#x27;: [16, 32, 64, 128, 256, 512],\n",
       "                              &#x27;hidden_layer_sizes&#x27;: [(24,), (12, 12),\n",
       "                                                     (6, 6, 6, 6),\n",
       "                                                     (4, 4, 4, 4, 4, 4),\n",
       "                                                     (12, 6, 3, 3)]},\n",
       "                  patience=True)</pre><b>In a Jupyter environment, please rerun this cell to show the HTML representation or trust the notebook. <br />On GitHub, the HTML representation is unable to render, please try loading this page with nbviewer.org.</b></div><div class=\"sk-container\" hidden><div class=\"sk-item sk-dashed-wrapped\"><div class=\"sk-label-container\"><div class=\"sk-label sk-toggleable\"><input class=\"sk-toggleable__control sk-hidden--visually\" id=\"sk-estimator-id-1\" type=\"checkbox\" ><label for=\"sk-estimator-id-1\" class=\"sk-toggleable__label sk-toggleable__label-arrow\">HyperbandSearchCV</label><div class=\"sk-toggleable__content\"><pre>HyperbandSearchCV(estimator=MLPClassifier(), max_iter=8,\n",
       "                  parameters={&#x27;activation&#x27;: [&#x27;relu&#x27;, &#x27;logistic&#x27;, &#x27;tanh&#x27;],\n",
       "                              &#x27;alpha&#x27;: array([1.00000000e-06, 1.00693863e-06, 1.01392541e-06, 1.02096066e-06,\n",
       "       1.02804473e-06, 1.03517796e-06, 1.04236067e-06, 1.04959323e-06,\n",
       "       1.05687597e-06, 1.06420924e-06, 1.07159340e-06, 1.07902879e-06,\n",
       "       1.08651577e-06, 1.09405471e-06, 1.10164595e-06, 1.1...\n",
       "       9.01477631e-04, 9.07732653e-04, 9.14031075e-04, 9.20373200e-04,\n",
       "       9.26759330e-04, 9.33189772e-04, 9.39664831e-04, 9.46184819e-04,\n",
       "       9.52750047e-04, 9.59360829e-04, 9.66017480e-04, 9.72720319e-04,\n",
       "       9.79469667e-04, 9.86265846e-04, 9.93109181e-04, 1.00000000e-03]),\n",
       "                              &#x27;batch_size&#x27;: [16, 32, 64, 128, 256, 512],\n",
       "                              &#x27;hidden_layer_sizes&#x27;: [(24,), (12, 12),\n",
       "                                                     (6, 6, 6, 6),\n",
       "                                                     (4, 4, 4, 4, 4, 4),\n",
       "                                                     (12, 6, 3, 3)]},\n",
       "                  patience=True)</pre></div></div></div><div class=\"sk-parallel\"><div class=\"sk-parallel-item\"><div class=\"sk-item\"><div class=\"sk-label-container\"><div class=\"sk-label sk-toggleable\"><input class=\"sk-toggleable__control sk-hidden--visually\" id=\"sk-estimator-id-2\" type=\"checkbox\" ><label for=\"sk-estimator-id-2\" class=\"sk-toggleable__label sk-toggleable__label-arrow\">estimator: MLPClassifier</label><div class=\"sk-toggleable__content\"><pre>MLPClassifier()</pre></div></div></div><div class=\"sk-serial\"><div class=\"sk-item\"><div class=\"sk-estimator sk-toggleable\"><input class=\"sk-toggleable__control sk-hidden--visually\" id=\"sk-estimator-id-3\" type=\"checkbox\" ><label for=\"sk-estimator-id-3\" class=\"sk-toggleable__label sk-toggleable__label-arrow\">MLPClassifier</label><div class=\"sk-toggleable__content\"><pre>MLPClassifier()</pre></div></div></div></div></div></div></div></div></div></div>"
      ],
      "text/plain": [
       "HyperbandSearchCV(estimator=MLPClassifier(), max_iter=8,\n",
       "                  parameters={'activation': ['relu', 'logistic', 'tanh'],\n",
       "                              'alpha': array([1.00000000e-06, 1.00693863e-06, 1.01392541e-06, 1.02096066e-06,\n",
       "       1.02804473e-06, 1.03517796e-06, 1.04236067e-06, 1.04959323e-06,\n",
       "       1.05687597e-06, 1.06420924e-06, 1.07159340e-06, 1.07902879e-06,\n",
       "       1.08651577e-06, 1.09405471e-06, 1.10164595e-06, 1.1...\n",
       "       9.01477631e-04, 9.07732653e-04, 9.14031075e-04, 9.20373200e-04,\n",
       "       9.26759330e-04, 9.33189772e-04, 9.39664831e-04, 9.46184819e-04,\n",
       "       9.52750047e-04, 9.59360829e-04, 9.66017480e-04, 9.72720319e-04,\n",
       "       9.79469667e-04, 9.86265846e-04, 9.93109181e-04, 1.00000000e-03]),\n",
       "                              'batch_size': [16, 32, 64, 128, 256, 512],\n",
       "                              'hidden_layer_sizes': [(24,), (12, 12),\n",
       "                                                     (6, 6, 6, 6),\n",
       "                                                     (4, 4, 4, 4, 4, 4),\n",
       "                                                     (12, 6, 3, 3)]},\n",
       "                  patience=True)"
      ]
     },
     "execution_count": 16,
     "metadata": {},
     "output_type": "execute_result"
    }
   ],
   "source": [
    "%%time\n",
    "search.fit(X_train2, y_train2, classes=[0, 1, 2, 3])"
   ]
  },
  {
   "cell_type": "code",
   "execution_count": 17,
   "id": "29432789-4d6a-41f6-93f3-175728a51f2e",
   "metadata": {},
   "outputs": [
    {
     "data": {
      "text/plain": [
       "0.4979545454545454"
      ]
     },
     "execution_count": 17,
     "metadata": {},
     "output_type": "execute_result"
    }
   ],
   "source": [
    "search.best_score_"
   ]
  },
  {
   "cell_type": "code",
   "execution_count": 18,
   "id": "a2b98085-1eab-4388-9c84-426438e0dee9",
   "metadata": {},
   "outputs": [
    {
     "data": {
      "text/html": [
       "<style>#sk-container-id-2 {color: black;background-color: white;}#sk-container-id-2 pre{padding: 0;}#sk-container-id-2 div.sk-toggleable {background-color: white;}#sk-container-id-2 label.sk-toggleable__label {cursor: pointer;display: block;width: 100%;margin-bottom: 0;padding: 0.3em;box-sizing: border-box;text-align: center;}#sk-container-id-2 label.sk-toggleable__label-arrow:before {content: \"▸\";float: left;margin-right: 0.25em;color: #696969;}#sk-container-id-2 label.sk-toggleable__label-arrow:hover:before {color: black;}#sk-container-id-2 div.sk-estimator:hover label.sk-toggleable__label-arrow:before {color: black;}#sk-container-id-2 div.sk-toggleable__content {max-height: 0;max-width: 0;overflow: hidden;text-align: left;background-color: #f0f8ff;}#sk-container-id-2 div.sk-toggleable__content pre {margin: 0.2em;color: black;border-radius: 0.25em;background-color: #f0f8ff;}#sk-container-id-2 input.sk-toggleable__control:checked~div.sk-toggleable__content {max-height: 200px;max-width: 100%;overflow: auto;}#sk-container-id-2 input.sk-toggleable__control:checked~label.sk-toggleable__label-arrow:before {content: \"▾\";}#sk-container-id-2 div.sk-estimator input.sk-toggleable__control:checked~label.sk-toggleable__label {background-color: #d4ebff;}#sk-container-id-2 div.sk-label input.sk-toggleable__control:checked~label.sk-toggleable__label {background-color: #d4ebff;}#sk-container-id-2 input.sk-hidden--visually {border: 0;clip: rect(1px 1px 1px 1px);clip: rect(1px, 1px, 1px, 1px);height: 1px;margin: -1px;overflow: hidden;padding: 0;position: absolute;width: 1px;}#sk-container-id-2 div.sk-estimator {font-family: monospace;background-color: #f0f8ff;border: 1px dotted black;border-radius: 0.25em;box-sizing: border-box;margin-bottom: 0.5em;}#sk-container-id-2 div.sk-estimator:hover {background-color: #d4ebff;}#sk-container-id-2 div.sk-parallel-item::after {content: \"\";width: 100%;border-bottom: 1px solid gray;flex-grow: 1;}#sk-container-id-2 div.sk-label:hover label.sk-toggleable__label {background-color: #d4ebff;}#sk-container-id-2 div.sk-serial::before {content: \"\";position: absolute;border-left: 1px solid gray;box-sizing: border-box;top: 0;bottom: 0;left: 50%;z-index: 0;}#sk-container-id-2 div.sk-serial {display: flex;flex-direction: column;align-items: center;background-color: white;padding-right: 0.2em;padding-left: 0.2em;position: relative;}#sk-container-id-2 div.sk-item {position: relative;z-index: 1;}#sk-container-id-2 div.sk-parallel {display: flex;align-items: stretch;justify-content: center;background-color: white;position: relative;}#sk-container-id-2 div.sk-item::before, #sk-container-id-2 div.sk-parallel-item::before {content: \"\";position: absolute;border-left: 1px solid gray;box-sizing: border-box;top: 0;bottom: 0;left: 50%;z-index: -1;}#sk-container-id-2 div.sk-parallel-item {display: flex;flex-direction: column;z-index: 1;position: relative;background-color: white;}#sk-container-id-2 div.sk-parallel-item:first-child::after {align-self: flex-end;width: 50%;}#sk-container-id-2 div.sk-parallel-item:last-child::after {align-self: flex-start;width: 50%;}#sk-container-id-2 div.sk-parallel-item:only-child::after {width: 0;}#sk-container-id-2 div.sk-dashed-wrapped {border: 1px dashed gray;margin: 0 0.4em 0.5em 0.4em;box-sizing: border-box;padding-bottom: 0.4em;background-color: white;}#sk-container-id-2 div.sk-label label {font-family: monospace;font-weight: bold;display: inline-block;line-height: 1.2em;}#sk-container-id-2 div.sk-label-container {text-align: center;}#sk-container-id-2 div.sk-container {/* jupyter's `normalize.less` sets `[hidden] { display: none; }` but bootstrap.min.css set `[hidden] { display: none !important; }` so we also need the `!important` here to be able to override the default hidden behavior on the sphinx rendered scikit-learn.org. See: https://github.com/scikit-learn/scikit-learn/issues/21755 */display: inline-block !important;position: relative;}#sk-container-id-2 div.sk-text-repr-fallback {display: none;}</style><div id=\"sk-container-id-2\" class=\"sk-top-container\"><div class=\"sk-text-repr-fallback\"><pre>MLPClassifier(activation=&#x27;logistic&#x27;, alpha=0.0009727203192450537,\n",
       "              batch_size=128, hidden_layer_sizes=(24,))</pre><b>In a Jupyter environment, please rerun this cell to show the HTML representation or trust the notebook. <br />On GitHub, the HTML representation is unable to render, please try loading this page with nbviewer.org.</b></div><div class=\"sk-container\" hidden><div class=\"sk-item\"><div class=\"sk-estimator sk-toggleable\"><input class=\"sk-toggleable__control sk-hidden--visually\" id=\"sk-estimator-id-4\" type=\"checkbox\" checked><label for=\"sk-estimator-id-4\" class=\"sk-toggleable__label sk-toggleable__label-arrow\">MLPClassifier</label><div class=\"sk-toggleable__content\"><pre>MLPClassifier(activation=&#x27;logistic&#x27;, alpha=0.0009727203192450537,\n",
       "              batch_size=128, hidden_layer_sizes=(24,))</pre></div></div></div></div></div>"
      ],
      "text/plain": [
       "MLPClassifier(activation='logistic', alpha=0.0009727203192450537,\n",
       "              batch_size=128, hidden_layer_sizes=(24,))"
      ]
     },
     "execution_count": 18,
     "metadata": {},
     "output_type": "execute_result"
    }
   ],
   "source": [
    "search.best_estimator_"
   ]
  },
  {
   "cell_type": "code",
   "execution_count": 19,
   "id": "808b2805-b183-4321-9de8-7f8d4b58f3c7",
   "metadata": {},
   "outputs": [
    {
     "data": {
      "text/html": [
       "<div>\n",
       "<style scoped>\n",
       "    .dataframe tbody tr th:only-of-type {\n",
       "        vertical-align: middle;\n",
       "    }\n",
       "\n",
       "    .dataframe tbody tr th {\n",
       "        vertical-align: top;\n",
       "    }\n",
       "\n",
       "    .dataframe thead th {\n",
       "        text-align: right;\n",
       "    }\n",
       "</style>\n",
       "<table border=\"1\" class=\"dataframe\">\n",
       "  <thead>\n",
       "    <tr style=\"text-align: right;\">\n",
       "      <th></th>\n",
       "      <th>mean_partial_fit_time</th>\n",
       "      <th>test_score</th>\n",
       "      <th>std_score_time</th>\n",
       "      <th>param_activation</th>\n",
       "      <th>partial_fit_calls</th>\n",
       "      <th>mean_score_time</th>\n",
       "      <th>rank_test_score</th>\n",
       "      <th>param_batch_size</th>\n",
       "      <th>std_partial_fit_time</th>\n",
       "      <th>params</th>\n",
       "      <th>param_hidden_layer_sizes</th>\n",
       "      <th>bracket</th>\n",
       "      <th>param_alpha</th>\n",
       "      <th>model_id</th>\n",
       "    </tr>\n",
       "  </thead>\n",
       "  <tbody>\n",
       "    <tr>\n",
       "      <th>0</th>\n",
       "      <td>0.276263</td>\n",
       "      <td>0.500000</td>\n",
       "      <td>0.000778</td>\n",
       "      <td>tanh</td>\n",
       "      <td>2</td>\n",
       "      <td>0.011276</td>\n",
       "      <td>1</td>\n",
       "      <td>32</td>\n",
       "      <td>0.009674</td>\n",
       "      <td>{'hidden_layer_sizes': (4, 4, 4, 4, 4, 4), 'ba...</td>\n",
       "      <td>(4, 4, 4, 4, 4, 4)</td>\n",
       "      <td>1</td>\n",
       "      <td>0.000019</td>\n",
       "      <td>bracket=1-0</td>\n",
       "    </tr>\n",
       "    <tr>\n",
       "      <th>1</th>\n",
       "      <td>0.222856</td>\n",
       "      <td>0.499091</td>\n",
       "      <td>0.009141</td>\n",
       "      <td>logistic</td>\n",
       "      <td>2</td>\n",
       "      <td>0.021299</td>\n",
       "      <td>2</td>\n",
       "      <td>16</td>\n",
       "      <td>0.001430</td>\n",
       "      <td>{'hidden_layer_sizes': (24,), 'batch_size': 16...</td>\n",
       "      <td>(24,)</td>\n",
       "      <td>1</td>\n",
       "      <td>0.000004</td>\n",
       "      <td>bracket=1-1</td>\n",
       "    </tr>\n",
       "    <tr>\n",
       "      <th>2</th>\n",
       "      <td>0.436798</td>\n",
       "      <td>0.497955</td>\n",
       "      <td>0.002343</td>\n",
       "      <td>logistic</td>\n",
       "      <td>4</td>\n",
       "      <td>0.017998</td>\n",
       "      <td>3</td>\n",
       "      <td>128</td>\n",
       "      <td>0.461222</td>\n",
       "      <td>{'hidden_layer_sizes': (24,), 'batch_size': 12...</td>\n",
       "      <td>(24,)</td>\n",
       "      <td>1</td>\n",
       "      <td>0.000973</td>\n",
       "      <td>bracket=1-2</td>\n",
       "    </tr>\n",
       "    <tr>\n",
       "      <th>3</th>\n",
       "      <td>0.105844</td>\n",
       "      <td>0.495227</td>\n",
       "      <td>0.001233</td>\n",
       "      <td>relu</td>\n",
       "      <td>3</td>\n",
       "      <td>0.008763</td>\n",
       "      <td>1</td>\n",
       "      <td>512</td>\n",
       "      <td>0.030531</td>\n",
       "      <td>{'hidden_layer_sizes': (4, 4, 4, 4, 4, 4), 'ba...</td>\n",
       "      <td>(4, 4, 4, 4, 4, 4)</td>\n",
       "      <td>0</td>\n",
       "      <td>0.000118</td>\n",
       "      <td>bracket=0-0</td>\n",
       "    </tr>\n",
       "    <tr>\n",
       "      <th>4</th>\n",
       "      <td>0.244453</td>\n",
       "      <td>0.492955</td>\n",
       "      <td>0.001895</td>\n",
       "      <td>logistic</td>\n",
       "      <td>3</td>\n",
       "      <td>0.015448</td>\n",
       "      <td>2</td>\n",
       "      <td>64</td>\n",
       "      <td>0.131444</td>\n",
       "      <td>{'hidden_layer_sizes': (24,), 'batch_size': 64...</td>\n",
       "      <td>(24,)</td>\n",
       "      <td>0</td>\n",
       "      <td>0.000027</td>\n",
       "      <td>bracket=0-1</td>\n",
       "    </tr>\n",
       "  </tbody>\n",
       "</table>\n",
       "</div>"
      ],
      "text/plain": [
       "   mean_partial_fit_time  test_score  std_score_time param_activation  \\\n",
       "0               0.276263    0.500000        0.000778             tanh   \n",
       "1               0.222856    0.499091        0.009141         logistic   \n",
       "2               0.436798    0.497955        0.002343         logistic   \n",
       "3               0.105844    0.495227        0.001233             relu   \n",
       "4               0.244453    0.492955        0.001895         logistic   \n",
       "\n",
       "   partial_fit_calls  mean_score_time  rank_test_score  param_batch_size  \\\n",
       "0                  2         0.011276                1                32   \n",
       "1                  2         0.021299                2                16   \n",
       "2                  4         0.017998                3               128   \n",
       "3                  3         0.008763                1               512   \n",
       "4                  3         0.015448                2                64   \n",
       "\n",
       "   std_partial_fit_time                                             params  \\\n",
       "0              0.009674  {'hidden_layer_sizes': (4, 4, 4, 4, 4, 4), 'ba...   \n",
       "1              0.001430  {'hidden_layer_sizes': (24,), 'batch_size': 16...   \n",
       "2              0.461222  {'hidden_layer_sizes': (24,), 'batch_size': 12...   \n",
       "3              0.030531  {'hidden_layer_sizes': (4, 4, 4, 4, 4, 4), 'ba...   \n",
       "4              0.131444  {'hidden_layer_sizes': (24,), 'batch_size': 64...   \n",
       "\n",
       "  param_hidden_layer_sizes  bracket  param_alpha     model_id  \n",
       "0       (4, 4, 4, 4, 4, 4)        1     0.000019  bracket=1-0  \n",
       "1                    (24,)        1     0.000004  bracket=1-1  \n",
       "2                    (24,)        1     0.000973  bracket=1-2  \n",
       "3       (4, 4, 4, 4, 4, 4)        0     0.000118  bracket=0-0  \n",
       "4                    (24,)        0     0.000027  bracket=0-1  "
      ]
     },
     "execution_count": 19,
     "metadata": {},
     "output_type": "execute_result"
    }
   ],
   "source": [
    "cv_results = pd.DataFrame(search.cv_results_)\n",
    "cv_results.head()"
   ]
  },
  {
   "cell_type": "code",
   "execution_count": 20,
   "id": "fd04eb1e-4922-4435-83f2-45ee891053ca",
   "metadata": {},
   "outputs": [
    {
     "data": {
      "text/plain": [
       "0.5128"
      ]
     },
     "execution_count": 20,
     "metadata": {},
     "output_type": "execute_result"
    }
   ],
   "source": [
    "search.score(X_test, y_test)"
   ]
  },
  {
   "cell_type": "code",
   "execution_count": 21,
   "id": "17e8482a-df4b-48d1-92b6-34f26239bb0b",
   "metadata": {},
   "outputs": [
    {
     "data": {
      "text/html": [
       "<table>\n",
       "    <tr>\n",
       "        <td>\n",
       "            <table>\n",
       "                <thead>\n",
       "                    <tr>\n",
       "                        <td> </td>\n",
       "                        <th> Array </th>\n",
       "                        <th> Chunk </th>\n",
       "                    </tr>\n",
       "                </thead>\n",
       "                <tbody>\n",
       "                    \n",
       "                    <tr>\n",
       "                        <th> Bytes </th>\n",
       "                        <td> 39.06 kiB </td>\n",
       "                        <td> 39.06 kiB </td>\n",
       "                    </tr>\n",
       "                    \n",
       "                    <tr>\n",
       "                        <th> Shape </th>\n",
       "                        <td> (5000,) </td>\n",
       "                        <td> (5000,) </td>\n",
       "                    </tr>\n",
       "                    <tr>\n",
       "                        <th> Count </th>\n",
       "                        <td> 2 Graph Layers </td>\n",
       "                        <td> 1 Chunks </td>\n",
       "                    </tr>\n",
       "                    <tr>\n",
       "                    <th> Type </th>\n",
       "                    <td> int64 </td>\n",
       "                    <td> numpy.ndarray </td>\n",
       "                    </tr>\n",
       "                </tbody>\n",
       "            </table>\n",
       "        </td>\n",
       "        <td>\n",
       "        <svg width=\"170\" height=\"75\" style=\"stroke:rgb(0,0,0);stroke-width:1\" >\n",
       "\n",
       "  <!-- Horizontal lines -->\n",
       "  <line x1=\"0\" y1=\"0\" x2=\"120\" y2=\"0\" style=\"stroke-width:2\" />\n",
       "  <line x1=\"0\" y1=\"25\" x2=\"120\" y2=\"25\" style=\"stroke-width:2\" />\n",
       "\n",
       "  <!-- Vertical lines -->\n",
       "  <line x1=\"0\" y1=\"0\" x2=\"0\" y2=\"25\" style=\"stroke-width:2\" />\n",
       "  <line x1=\"120\" y1=\"0\" x2=\"120\" y2=\"25\" style=\"stroke-width:2\" />\n",
       "\n",
       "  <!-- Colored Rectangle -->\n",
       "  <polygon points=\"0.0,0.0 120.0,0.0 120.0,25.412616514582485 0.0,25.412616514582485\" style=\"fill:#ECB172A0;stroke-width:0\"/>\n",
       "\n",
       "  <!-- Text -->\n",
       "  <text x=\"60.000000\" y=\"45.412617\" font-size=\"1.0rem\" font-weight=\"100\" text-anchor=\"middle\" >5000</text>\n",
       "  <text x=\"140.000000\" y=\"12.706308\" font-size=\"1.0rem\" font-weight=\"100\" text-anchor=\"middle\" transform=\"rotate(0,140.000000,12.706308)\">1</text>\n",
       "</svg>\n",
       "        </td>\n",
       "    </tr>\n",
       "</table>"
      ],
      "text/plain": [
       "dask.array<_predict, shape=(5000,), dtype=int64, chunksize=(5000,), chunktype=numpy.ndarray>"
      ]
     },
     "execution_count": 21,
     "metadata": {},
     "output_type": "execute_result"
    }
   ],
   "source": [
    "search.predict(X_test)"
   ]
  },
  {
   "cell_type": "code",
   "execution_count": 22,
   "id": "96bb2a20-1ce6-4e3b-b97e-247ddb858333",
   "metadata": {},
   "outputs": [
    {
     "data": {
      "text/plain": [
       "array([1, 1, 1, ..., 1, 1, 1])"
      ]
     },
     "execution_count": 22,
     "metadata": {},
     "output_type": "execute_result"
    }
   ],
   "source": [
    "search.predict(X_test).compute()"
   ]
  },
  {
   "cell_type": "code",
   "execution_count": 23,
   "id": "0f433e79-3622-4fad-ab20-d3bc4c816b9c",
   "metadata": {},
   "outputs": [
    {
     "data": {
      "text/html": [
       "<div>\n",
       "<style scoped>\n",
       "    .dataframe tbody tr th:only-of-type {\n",
       "        vertical-align: middle;\n",
       "    }\n",
       "\n",
       "    .dataframe tbody tr th {\n",
       "        vertical-align: top;\n",
       "    }\n",
       "\n",
       "    .dataframe thead th {\n",
       "        text-align: right;\n",
       "    }\n",
       "</style>\n",
       "<table border=\"1\" class=\"dataframe\">\n",
       "  <thead>\n",
       "    <tr style=\"text-align: right;\">\n",
       "      <th></th>\n",
       "      <th>model_id</th>\n",
       "      <th>params</th>\n",
       "      <th>partial_fit_calls</th>\n",
       "      <th>partial_fit_time</th>\n",
       "      <th>score</th>\n",
       "      <th>score_time</th>\n",
       "      <th>elapsed_wall_time</th>\n",
       "      <th>bracket</th>\n",
       "    </tr>\n",
       "  </thead>\n",
       "  <tbody>\n",
       "    <tr>\n",
       "      <th>0</th>\n",
       "      <td>bracket=0-0</td>\n",
       "      <td>{'hidden_layer_sizes': (4, 4, 4, 4, 4, 4), 'ba...</td>\n",
       "      <td>1</td>\n",
       "      <td>0.075313</td>\n",
       "      <td>0.495227</td>\n",
       "      <td>0.009996</td>\n",
       "      <td>0.392845</td>\n",
       "      <td>0</td>\n",
       "    </tr>\n",
       "    <tr>\n",
       "      <th>1</th>\n",
       "      <td>bracket=0-1</td>\n",
       "      <td>{'hidden_layer_sizes': (24,), 'batch_size': 64...</td>\n",
       "      <td>1</td>\n",
       "      <td>0.113010</td>\n",
       "      <td>0.499318</td>\n",
       "      <td>0.013553</td>\n",
       "      <td>0.392847</td>\n",
       "      <td>0</td>\n",
       "    </tr>\n",
       "    <tr>\n",
       "      <th>2</th>\n",
       "      <td>bracket=1-0</td>\n",
       "      <td>{'hidden_layer_sizes': (4, 4, 4, 4, 4, 4), 'ba...</td>\n",
       "      <td>1</td>\n",
       "      <td>0.285936</td>\n",
       "      <td>0.500000</td>\n",
       "      <td>0.010498</td>\n",
       "      <td>1.245270</td>\n",
       "      <td>1</td>\n",
       "    </tr>\n",
       "    <tr>\n",
       "      <th>3</th>\n",
       "      <td>bracket=1-1</td>\n",
       "      <td>{'hidden_layer_sizes': (24,), 'batch_size': 16...</td>\n",
       "      <td>1</td>\n",
       "      <td>0.224286</td>\n",
       "      <td>0.498864</td>\n",
       "      <td>0.030440</td>\n",
       "      <td>1.245273</td>\n",
       "      <td>1</td>\n",
       "    </tr>\n",
       "    <tr>\n",
       "      <th>4</th>\n",
       "      <td>bracket=1-2</td>\n",
       "      <td>{'hidden_layer_sizes': (24,), 'batch_size': 12...</td>\n",
       "      <td>1</td>\n",
       "      <td>1.085279</td>\n",
       "      <td>0.500000</td>\n",
       "      <td>0.020423</td>\n",
       "      <td>1.245274</td>\n",
       "      <td>1</td>\n",
       "    </tr>\n",
       "  </tbody>\n",
       "</table>\n",
       "</div>"
      ],
      "text/plain": [
       "      model_id                                             params  \\\n",
       "0  bracket=0-0  {'hidden_layer_sizes': (4, 4, 4, 4, 4, 4), 'ba...   \n",
       "1  bracket=0-1  {'hidden_layer_sizes': (24,), 'batch_size': 64...   \n",
       "2  bracket=1-0  {'hidden_layer_sizes': (4, 4, 4, 4, 4, 4), 'ba...   \n",
       "3  bracket=1-1  {'hidden_layer_sizes': (24,), 'batch_size': 16...   \n",
       "4  bracket=1-2  {'hidden_layer_sizes': (24,), 'batch_size': 12...   \n",
       "\n",
       "   partial_fit_calls  partial_fit_time     score  score_time  \\\n",
       "0                  1          0.075313  0.495227    0.009996   \n",
       "1                  1          0.113010  0.499318    0.013553   \n",
       "2                  1          0.285936  0.500000    0.010498   \n",
       "3                  1          0.224286  0.498864    0.030440   \n",
       "4                  1          1.085279  0.500000    0.020423   \n",
       "\n",
       "   elapsed_wall_time  bracket  \n",
       "0           0.392845        0  \n",
       "1           0.392847        0  \n",
       "2           1.245270        1  \n",
       "3           1.245273        1  \n",
       "4           1.245274        1  "
      ]
     },
     "execution_count": 23,
     "metadata": {},
     "output_type": "execute_result"
    }
   ],
   "source": [
    "hist = pd.DataFrame(search.history_)\n",
    "hist.head()"
   ]
  },
  {
   "cell_type": "code",
   "execution_count": null,
   "id": "78aeafb5-de37-4574-8196-aafc26d8e9fa",
   "metadata": {},
   "outputs": [],
   "source": []
  },
  {
   "cell_type": "markdown",
   "id": "edb36166-6cb9-45c3-b3ea-a2f421007eae",
   "metadata": {},
   "source": [
    "**Note**: \n",
    "- You can consider adding the extracted features as additional columns to this DataFrame.\n",
    "- Start by considering the mean and range of spectral bands as features."
   ]
  },
  {
   "cell_type": "markdown",
   "id": "0d504492-e572-4bb0-9fca-b04884eea478",
   "metadata": {},
   "source": [
    "**Points of discussion**:\n",
    "- Can you explain the criteria and rationale behind the features you created? What other features you would select from these images in addition to the mean and range?\n",
    "- Why is it important to have separate sets for training, validation, and testing? Which split did you consider and why? \n",
    "- What factors influenced your choice of a specific machine learning algorithm?\n",
    "- How did hyperparameter tuning impact the model's performance, and what were the final hyperparameter settings?\n",
    "- What is the impact of using DASK to solve this problem? What is the impact of changing DASK parameters like chunk size? You may consider checking CPU, memory usage, processing time, ..."
   ]
  },
  {
   "cell_type": "code",
   "execution_count": null,
   "id": "1a379732-8cf2-4e1c-9da2-96e23f415ec0",
   "metadata": {},
   "outputs": [],
   "source": []
  }
 ],
 "metadata": {
  "kernelspec": {
   "display_name": "Python",
   "language": "python",
   "name": "python3"
  },
  "language_info": {
   "codemirror_mode": {
    "name": "ipython",
    "version": 3
   },
   "file_extension": ".py",
   "mimetype": "text/x-python",
   "name": "python",
   "nbconvert_exporter": "python",
   "pygments_lexer": "ipython3",
   "version": "3.8.10"
  }
 },
 "nbformat": 4,
 "nbformat_minor": 5
}
